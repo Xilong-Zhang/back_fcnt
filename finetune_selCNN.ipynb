{
 "cells": [
  {
   "cell_type": "code",
   "execution_count": 1,
   "metadata": {
    "collapsed": true
   },
   "outputs": [],
   "source": [
    "import os\n",
    "os.environ[\"CUDA_VISIBLE_DEVICES\"]=\"1\"\n",
    "%matplotlib inline"
   ]
  },
  {
   "cell_type": "code",
   "execution_count": 2,
   "metadata": {
    "collapsed": true
   },
   "outputs": [],
   "source": [
    "\"\"\"\n",
    "Main script for FCNT tracker. \n",
    "\"\"\"\n",
    "#%%\n",
    "# Import custom class and functions\n",
    "from inputproducer import InputProducer\n",
    "from tracker import TrackerVanilla\n",
    "from vgg16 import Vgg16\n",
    "from selcnn import SelCNN\n",
    "from sgnet import GNet, SNet\n",
    "from utils import img_with_bbox, IOU_eval\n",
    "\n",
    "import numpy as np \n",
    "import tensorflow as tf\n",
    "import matplotlib.pylab as plt\n",
    "\n",
    "import os\n",
    "import time\n",
    "#%%\n",
    "tf.app.flags.DEFINE_integer('iter_step_sel', 200,\n",
    "                          \"\"\"Number of steps for trainning\"\"\"\n",
    "                          \"\"\"selCNN networks.\"\"\")\n",
    "tf.app.flags.DEFINE_integer('iter_step_sg', 50,\n",
    "                          \"\"\"Number of steps for trainning\"\"\"\n",
    "                          \"\"\"SGnet works\"\"\")\n",
    "tf.app.flags.DEFINE_integer('num_sel', 384,\n",
    "                          \"\"\"Number of feature maps selected.\"\"\")\n",
    "tf.app.flags.DEFINE_integer('iter_max', 200,\n",
    "\t\t\t\t\t\t\t\"\"\"Max iter times through imgs\"\"\")\n",
    "\n",
    "FLAGS = tf.app.flags.FLAGS\n",
    "\n",
    "## Define varies path\n",
    "DATA_ROOT = 'data/Dog1'\n",
    "PRE_ROOT = os.path.join(DATA_ROOT, 'img_loc')\n",
    "IMG_PATH = os.path.join(DATA_ROOT, 'img')\n",
    "GT_PATH = os.path.join(DATA_ROOT, 'groundtruth_rect.txt')\n",
    "VGG_WEIGHTS_PATH = 'vgg16_weights.npz'\n",
    "#%%\n",
    "\n",
    "\n",
    "\n",
    "def train_sgNet(sess, gnet, snet, sgt_M, ggt_M, feed_dict):\n",
    "\t\"\"\"\n",
    "\tTrain sgnet by minimize the loss\n",
    "\tLoss = Lg + Ls\n",
    "\twhere Li = |pre_Mi - gt_M|**2 + Weights_decay_term_i\n",
    "\n",
    "\t\"\"\"\n",
    "\t# Initialize sgNet variables\n",
    "\tsgNet_vars = gnet.variables + snet.variables\n",
    "\tinit_SGNet_vars_op = tf.initialize_variables(sgNet_vars, name='init_sgNet')\n",
    "\tsess.run(init_SGNet_vars_op)\n",
    "\n",
    "\t# Define composite loss\n",
    "\ttotal_losses = snet.loss(sgt_M) + gnet.loss(ggt_M)\n",
    "\n",
    "\t# Define trainning op\n",
    "\toptimizer = tf.train.GradientDescentOptimizer(1e-6)\n",
    "\ttrain_op = optimizer.minimize(total_losses, var_list= sgNet_vars)\n",
    "\n",
    "\tfor step in range(FLAGS.iter_step_sg):\n",
    "\t\tloss, _ = sess.run([total_losses, train_op], feed_dict = feed_dict)\n",
    "\t\tprint(\"SGNet Loss: \", loss)\n",
    "\n",
    "\n",
    "\n",
    "def gen_mask_phi(img_sz, loc):\n",
    "\tx,y,w,h = loc\n",
    "\tphi = np.zeros(img_sz)\n",
    "\tphi[y-int(0.5*h): y+int(0.5*h), x-int(0.5*w):x+int(0.5*w)] = 1\n",
    "\treturn phi\n",
    "#%%\n"
   ]
  },
  {
   "cell_type": "code",
   "execution_count": 3,
   "metadata": {
    "collapsed": true
   },
   "outputs": [],
   "source": [
    "\n",
    "\n",
    "import tensorflow as tf\n",
    "import numpy as np\n",
    "\n",
    "from utils import variable_on_cpu, variable_with_weight_decay\n",
    "\n",
    "def non2zero(l):\n",
    "\treturn [0 if i==None else i for i in l] \n",
    "\n",
    "class SelCNN:\n",
    "\tdef __init__(self, scope, vgg_conv_layer, gt_M_sz):\n",
    "\t\t\"\"\"\n",
    "\t\tselCNN network class. Initialize graph.\n",
    "\n",
    "\t\tArgs: \n",
    "\t\t\tname: string, name of the network.\n",
    "\t\t\tvgg_conv_layer: tensor, either conv4_3 or cnv5_3 layer\n",
    "\t\t\t\tof a pretrained vgg16 network\n",
    "\t\t\"\"\"\n",
    "\t\t# Initialize network\n",
    "\t\tself.scope = scope\n",
    "\t\tself.input_layer = vgg_conv_layer\n",
    "\n",
    "\t\t# Unpack vgg_conv_layer for partial derivatives\n",
    "\t\tself.feature_maps = [vgg_conv_layer[...,i] for i in range(512)]\n",
    "\t\tself.variables = []\n",
    "\t\tself.params = {\n",
    "\t\t'dropout_rate': 0.3,\n",
    "\t\t'k_size': [3, 3, 512, 1],\n",
    "\t\t'wd': 0.5,\n",
    "\t\t'lr_initial': 1e-7, # 1e-8 gives 438 after 200 steps, 1e-7 gives better maps?\n",
    "\t\t'lr_decay_steps': 0,\n",
    "\t\t'lr_decay_rate':  1\n",
    "\t\t}\n",
    "\t\twith tf.name_scope(scope) as scope:\n",
    "\t\t\tself.pre_M = self._get_pre_M()\n",
    "\t\t\tself.gt_M = tf.placeholder(tf.float32, shape=gt_M_sz)\n",
    "\t\tself.pre_M_size = self.pre_M.get_shape().as_list()[1:3]\n",
    "\t\t\n",
    "\n",
    "\n",
    "\tdef _get_pre_M(self):\n",
    "\t\t\"\"\"Build the sel-CNN graph and returns predicted Heat map.\"\"\"\n",
    "\t\tinput_maps = tf.pack(self.feature_maps, axis=-1)\n",
    "\t\tdropout_layer = tf.nn.dropout(input_maps, self.params['dropout_rate'])\n",
    "\n",
    "\t\t# Conv layer with bias \n",
    "\t\tkernel = variable_with_weight_decay(self.scope, 'kernel',\\\n",
    "\t\t\t\t\t\t\tself.params['k_size'], wd = self.params['wd'])\n",
    "\t\tconv = tf.nn.conv2d(dropout_layer, kernel, [1,1,1,1], 'SAME')\n",
    "\t\tbias = variable_on_cpu(self.scope,'biases', [1], tf.constant_initializer(0.1))\n",
    "\t\tpre_M = tf.nn.bias_add(conv, bias)\n",
    "\t\tself.variables += [kernel, bias]\n",
    "\t\t# Subtract mean \n",
    "\t\tpre_M -= tf.reduce_mean(pre_M)\n",
    "\t\t#pre_M# /= tf.reduce_max(pre_M)\n",
    "\t\treturn pre_M\n",
    "\n",
    "\n",
    "\tdef train_op(self, global_step, add_regulizer=True):\n",
    "\t\t\"\"\" Train the network on the fist frame. \n",
    "\n",
    "\t\tArgs:\n",
    "\t\t\tgt_M_sz: tuple, shape identical to self.pre_M,\n",
    "\t\t\t\tGround truth heatmap.\n",
    "\t\t\tadd_regulizer: bool, True for adding L2 regulizer of the \n",
    "\t\t\t\tkernel variables of the conv layer.\n",
    "\n",
    "\t\tReturns:\n",
    "\t\t\ttrain_op:\n",
    "\t\t\ttotal_losses:\n",
    "\t\t\tlr:\n",
    "\t\t\"\"\"\n",
    "\t\tpre_shape = self.pre_M.get_shape().as_list()[1:]\n",
    "\t\tgt_shape = self.gt_M.get_shape().as_list()[1:]\n",
    "\t\tassert gt_shape == pre_shape, 'Shapes are not compatiable! gt_M : {0}, pre_M : {1}'.format(gt_shape, pre_shape)\n",
    "\t\t\n",
    "\t\t#with tf.variable_scope(self.scope) as scope:\n",
    "\t\t# Root mean square loss\n",
    "\t\trms_loss = tf.reduce_mean(tf.squared_difference(self.gt_M, self.pre_M))\n",
    "\t\t# tf.squared_difference(x, y, name=None) try this! \n",
    "\t\t# (x-y)(x-y) \n",
    "\n",
    "\t\ttf.add_to_collection('losses', rms_loss)\n",
    "\n",
    "\t\t# Use vanila SGD with exponentially decayed learning rate\n",
    "\t\t# Decayed_learning_rate = learning_rate *\n",
    "\t\t#                decay_rate ^ (global_step / decay_steps)\n",
    "\t\tlr = tf.train.exponential_decay(\n",
    "\t\t\tself.params['lr_initial'], \n",
    "\t\t\tglobal_step, \n",
    "\t\t\tself.params['lr_decay_steps'], \n",
    "\t\t\tself.params['lr_decay_rate'] , \n",
    "\t\t\tname='lr')\n",
    "\n",
    "\t\t# Vanilia SGD with dexp decay learning rate\n",
    "\t\toptimizer = tf.train.GradientDescentOptimizer(lr)\n",
    "\n",
    "\t\tif add_regulizer:\n",
    "\t\t\t# Add L2 regularzer losses\n",
    "\t\t\ttotal_losses = tf.add_n(tf.get_collection(tf.GraphKeys.LOSSES), 'total_losses')\n",
    "\t\telse:\n",
    "\t\t\ttotal_losses = rms_loss\n",
    "\t\ttrain_op = optimizer.minimize(total_losses, var_list = self.variables, global_step=global_step)\n",
    "\t\tself.loss = total_losses\n",
    "\t\treturn train_op, total_losses, lr, optimizer\n",
    "\n",
    "\tdef sel_feature_maps(self, sess, vgg_conv, feed_dict, num_sel):\n",
    "\t\t\"\"\" \n",
    "\t\tSelects saliency feature maps. \n",
    "\t\tThe change of the Loss function by the permutation\n",
    "\t\tof the feature maps dF, can be computed by a \n",
    "\t\ttwo-order Taylor expansions.\n",
    "\n",
    "\t\tFurther simplication can be done by only compute\n",
    "\t\tthe diagonol part of the Hessian matrix.\n",
    "\n",
    "\t\tS = - partial(L)/patial(F) * F \n",
    "\t\t\t+ 0.5 * sencondOrderPartial(L)/F\n",
    "\n",
    "\t\tArgs:\n",
    "\t\t\tgt_M: tensor, ground truth heat map.\n",
    "\t\t\tsel_maps: tensor, conv layer of vgg.\n",
    "\t\t\tnum_sel: int, number of selected maps.\n",
    "\n",
    "\t\tReturns:\n",
    "\t\t\tsel_maps: np.ndarray, conv layer of vgg.\n",
    "\t\t\tidx: list, indexes of selected maps\n",
    "\t\t\"\"\"\n",
    "\t\t# Compute first derevatives w.r.t each feature maps\n",
    "\t\tgrads = non2zero(tf.gradients(self.loss, self.feature_maps))\n",
    "\n",
    "\t\t# Compute diagnol part of Hessian which are the second derevatives\n",
    "\t\t# of Loss_x w.r.t x\n",
    "\t\tH_diag = [non2zero(tf.gradients(grads[i], self.feature_maps[i]))[0] for i in range(512)]\n",
    "\n",
    "\t\t# Compute the significance vector, with each element stand for \n",
    "\t\t# the score of each feature map\n",
    "\t\tS = [tf.reduce_sum(-tf.mul(grads[i], self.feature_maps[i])) \\\n",
    "\t\t\t+ 0.5 * tf.reduce_sum(tf.mul(H_diag[i], self.feature_maps[i]**2)) for i in range(512)]\n",
    "\t\tS_tensor = tf.pack(S, axis=0) # shape (512,)\n",
    "\n",
    "\t\tvgg_maps, signif_v = sess.run([vgg_conv, S_tensor], feed_dict=feed_dict)\n",
    "\n",
    "\t\t# Retrieve the top-num_sel feature maps and corresponding idx\n",
    "\t\tidxs = sorted(range(len(signif_v)), key=lambda i: signif_v[i])[-num_sel:]\n",
    "\t\tbest_maps = vgg_maps[...,idxs]\n",
    "\t\tprint('Selected maps shape: {0}'.format(best_maps.shape)) # e.g.(1, 28, 28, 384)\n",
    "\t\treturn best_maps, idxs\n",
    "\t\t"
   ]
  },
  {
   "cell_type": "code",
   "execution_count": 4,
   "metadata": {
    "collapsed": false
   },
   "outputs": [
    {
     "name": "stdout",
     "output_type": "stream",
     "text": [
      "Reading the first image...\n",
      "Classify it with a pre-trained Vgg16 model.\n"
     ]
    },
    {
     "name": "stderr",
     "output_type": "stream",
     "text": [
      "/home/xlws/repos/FCNT_bak/inputproducer.py:85: VisibleDeprecationWarning: using a non-integer number instead of an integer will result in an error in the future\n",
      "  roi = convas[cy-half:cy+half, cx-half:cx+half, :]\n"
     ]
    },
    {
     "ename": "InternalError",
     "evalue": "Dst tensor is not initialized.\n\t [[Node: vgg/Assign_21/value = Const[dtype=DT_FLOAT, value=Tensor<type: float shape: [512] values: 0.097223252 -0.07323014 0.15150416...>, _device=\"/job:localhost/replica:0/task:0/gpu:0\"]()]]\nCaused by op 'vgg/Assign_21/value', defined at:\n  File \"/home/xlws/anaconda3/lib/python3.5/runpy.py\", line 184, in _run_module_as_main\n    \"__main__\", mod_spec)\n  File \"/home/xlws/anaconda3/lib/python3.5/runpy.py\", line 85, in _run_code\n    exec(code, run_globals)\n  File \"/home/xlws/anaconda3/lib/python3.5/site-packages/ipykernel/__main__.py\", line 3, in <module>\n    app.launch_new_instance()\n  File \"/home/xlws/anaconda3/lib/python3.5/site-packages/traitlets/config/application.py\", line 596, in launch_instance\n    app.start()\n  File \"/home/xlws/anaconda3/lib/python3.5/site-packages/ipykernel/kernelapp.py\", line 442, in start\n    ioloop.IOLoop.instance().start()\n  File \"/home/xlws/anaconda3/lib/python3.5/site-packages/zmq/eventloop/ioloop.py\", line 162, in start\n    super(ZMQIOLoop, self).start()\n  File \"/home/xlws/anaconda3/lib/python3.5/site-packages/tornado/ioloop.py\", line 883, in start\n    handler_func(fd_obj, events)\n  File \"/home/xlws/anaconda3/lib/python3.5/site-packages/tornado/stack_context.py\", line 275, in null_wrapper\n    return fn(*args, **kwargs)\n  File \"/home/xlws/anaconda3/lib/python3.5/site-packages/zmq/eventloop/zmqstream.py\", line 440, in _handle_events\n    self._handle_recv()\n  File \"/home/xlws/anaconda3/lib/python3.5/site-packages/zmq/eventloop/zmqstream.py\", line 472, in _handle_recv\n    self._run_callback(callback, msg)\n  File \"/home/xlws/anaconda3/lib/python3.5/site-packages/zmq/eventloop/zmqstream.py\", line 414, in _run_callback\n    callback(*args, **kwargs)\n  File \"/home/xlws/anaconda3/lib/python3.5/site-packages/tornado/stack_context.py\", line 275, in null_wrapper\n    return fn(*args, **kwargs)\n  File \"/home/xlws/anaconda3/lib/python3.5/site-packages/ipykernel/kernelbase.py\", line 276, in dispatcher\n    return self.dispatch_shell(stream, msg)\n  File \"/home/xlws/anaconda3/lib/python3.5/site-packages/ipykernel/kernelbase.py\", line 228, in dispatch_shell\n    handler(stream, idents, msg)\n  File \"/home/xlws/anaconda3/lib/python3.5/site-packages/ipykernel/kernelbase.py\", line 391, in execute_request\n    user_expressions, allow_stdin)\n  File \"/home/xlws/anaconda3/lib/python3.5/site-packages/ipykernel/ipkernel.py\", line 199, in do_execute\n    shell.run_cell(code, store_history=store_history, silent=silent)\n  File \"/home/xlws/anaconda3/lib/python3.5/site-packages/IPython/core/interactiveshell.py\", line 2723, in run_cell\n    interactivity=interactivity, compiler=compiler, result=result)\n  File \"/home/xlws/anaconda3/lib/python3.5/site-packages/IPython/core/interactiveshell.py\", line 2825, in run_ast_nodes\n    if self.run_code(code, result):\n  File \"/home/xlws/anaconda3/lib/python3.5/site-packages/IPython/core/interactiveshell.py\", line 2885, in run_code\n    exec(code_obj, self.user_global_ns, self.user_ns)\n  File \"<ipython-input-4-f63ed35bc59d>\", line 13, in <module>\n    vgg = Vgg16(VGG_WEIGHTS_PATH, sess)\n  File \"/home/xlws/repos/FCNT_bak/vgg16.py\", line 20, in __init__\n    self.load_weights(weights, sess)\n  File \"/home/xlws/repos/FCNT_bak/vgg16.py\", line 249, in load_weights\n    sess.run(self.parameters[i].assign(weights[k]))\n  File \"/home/xlws/anaconda3/lib/python3.5/site-packages/tensorflow/python/ops/variables.py\", line 505, in assign\n    return state_ops.assign(self._variable, value, use_locking=use_locking)\n  File \"/home/xlws/anaconda3/lib/python3.5/site-packages/tensorflow/python/ops/gen_state_ops.py\", line 45, in assign\n    use_locking=use_locking, name=name)\n  File \"/home/xlws/anaconda3/lib/python3.5/site-packages/tensorflow/python/framework/op_def_library.py\", line 454, in apply_op\n    as_ref=input_arg.is_ref)\n  File \"/home/xlws/anaconda3/lib/python3.5/site-packages/tensorflow/python/framework/ops.py\", line 628, in convert_to_tensor\n    ret = conversion_func(value, dtype=dtype, name=name, as_ref=as_ref)\n  File \"/home/xlws/anaconda3/lib/python3.5/site-packages/tensorflow/python/framework/constant_op.py\", line 180, in _constant_tensor_conversion_function\n    return constant(v, dtype=dtype, name=name)\n  File \"/home/xlws/anaconda3/lib/python3.5/site-packages/tensorflow/python/framework/constant_op.py\", line 167, in constant\n    attrs={\"value\": tensor_value, \"dtype\": dtype_value}, name=name).outputs[0]\n  File \"/home/xlws/anaconda3/lib/python3.5/site-packages/tensorflow/python/framework/ops.py\", line 2333, in create_op\n    original_op=self._default_original_op, op_def=op_def)\n  File \"/home/xlws/anaconda3/lib/python3.5/site-packages/tensorflow/python/framework/ops.py\", line 1252, in __init__\n    self._traceback = _extract_stack()\n",
     "output_type": "error",
     "traceback": [
      "\u001b[1;31m---------------------------------------------------------------------------\u001b[0m",
      "\u001b[1;31mInternalError\u001b[0m                             Traceback (most recent call last)",
      "\u001b[1;32m/home/xlws/anaconda3/lib/python3.5/site-packages/tensorflow/python/client/session.py\u001b[0m in \u001b[0;36m_do_call\u001b[1;34m(self, fn, *args)\u001b[0m\n\u001b[0;32m    971\u001b[0m     \u001b[1;32mtry\u001b[0m\u001b[1;33m:\u001b[0m\u001b[1;33m\u001b[0m\u001b[0m\n\u001b[1;32m--> 972\u001b[1;33m       \u001b[1;32mreturn\u001b[0m \u001b[0mfn\u001b[0m\u001b[1;33m(\u001b[0m\u001b[1;33m*\u001b[0m\u001b[0margs\u001b[0m\u001b[1;33m)\u001b[0m\u001b[1;33m\u001b[0m\u001b[0m\n\u001b[0m\u001b[0;32m    973\u001b[0m     \u001b[1;32mexcept\u001b[0m \u001b[0merrors\u001b[0m\u001b[1;33m.\u001b[0m\u001b[0mOpError\u001b[0m \u001b[1;32mas\u001b[0m \u001b[0me\u001b[0m\u001b[1;33m:\u001b[0m\u001b[1;33m\u001b[0m\u001b[0m\n",
      "\u001b[1;32m/home/xlws/anaconda3/lib/python3.5/site-packages/tensorflow/python/client/session.py\u001b[0m in \u001b[0;36m_run_fn\u001b[1;34m(session, feed_dict, fetch_list, target_list, options, run_metadata)\u001b[0m\n\u001b[0;32m    953\u001b[0m                                  \u001b[0mfeed_dict\u001b[0m\u001b[1;33m,\u001b[0m \u001b[0mfetch_list\u001b[0m\u001b[1;33m,\u001b[0m \u001b[0mtarget_list\u001b[0m\u001b[1;33m,\u001b[0m\u001b[1;33m\u001b[0m\u001b[0m\n\u001b[1;32m--> 954\u001b[1;33m                                  status, run_metadata)\n\u001b[0m\u001b[0;32m    955\u001b[0m \u001b[1;33m\u001b[0m\u001b[0m\n",
      "\u001b[1;32m/home/xlws/anaconda3/lib/python3.5/contextlib.py\u001b[0m in \u001b[0;36m__exit__\u001b[1;34m(self, type, value, traceback)\u001b[0m\n\u001b[0;32m     65\u001b[0m             \u001b[1;32mtry\u001b[0m\u001b[1;33m:\u001b[0m\u001b[1;33m\u001b[0m\u001b[0m\n\u001b[1;32m---> 66\u001b[1;33m                 \u001b[0mnext\u001b[0m\u001b[1;33m(\u001b[0m\u001b[0mself\u001b[0m\u001b[1;33m.\u001b[0m\u001b[0mgen\u001b[0m\u001b[1;33m)\u001b[0m\u001b[1;33m\u001b[0m\u001b[0m\n\u001b[0m\u001b[0;32m     67\u001b[0m             \u001b[1;32mexcept\u001b[0m \u001b[0mStopIteration\u001b[0m\u001b[1;33m:\u001b[0m\u001b[1;33m\u001b[0m\u001b[0m\n",
      "\u001b[1;32m/home/xlws/anaconda3/lib/python3.5/site-packages/tensorflow/python/framework/errors.py\u001b[0m in \u001b[0;36mraise_exception_on_not_ok_status\u001b[1;34m()\u001b[0m\n\u001b[0;32m    460\u001b[0m           \u001b[0mcompat\u001b[0m\u001b[1;33m.\u001b[0m\u001b[0mas_text\u001b[0m\u001b[1;33m(\u001b[0m\u001b[0mpywrap_tensorflow\u001b[0m\u001b[1;33m.\u001b[0m\u001b[0mTF_Message\u001b[0m\u001b[1;33m(\u001b[0m\u001b[0mstatus\u001b[0m\u001b[1;33m)\u001b[0m\u001b[1;33m)\u001b[0m\u001b[1;33m,\u001b[0m\u001b[1;33m\u001b[0m\u001b[0m\n\u001b[1;32m--> 461\u001b[1;33m           pywrap_tensorflow.TF_GetCode(status))\n\u001b[0m\u001b[0;32m    462\u001b[0m   \u001b[1;32mfinally\u001b[0m\u001b[1;33m:\u001b[0m\u001b[1;33m\u001b[0m\u001b[0m\n",
      "\u001b[1;31mInternalError\u001b[0m: Dst tensor is not initialized.\n\t [[Node: vgg/Assign_21/value = Const[dtype=DT_FLOAT, value=Tensor<type: float shape: [512] values: 0.097223252 -0.07323014 0.15150416...>, _device=\"/job:localhost/replica:0/task:0/gpu:0\"]()]]",
      "\nDuring handling of the above exception, another exception occurred:\n",
      "\u001b[1;31mInternalError\u001b[0m                             Traceback (most recent call last)",
      "\u001b[1;32m<ipython-input-4-f63ed35bc59d>\u001b[0m in \u001b[0;36m<module>\u001b[1;34m()\u001b[0m\n\u001b[0;32m     11\u001b[0m \u001b[0msess\u001b[0m \u001b[1;33m=\u001b[0m \u001b[0mtf\u001b[0m\u001b[1;33m.\u001b[0m\u001b[0mSession\u001b[0m\u001b[1;33m(\u001b[0m\u001b[1;33m)\u001b[0m\u001b[1;33m\u001b[0m\u001b[0m\n\u001b[0;32m     12\u001b[0m \u001b[0msess\u001b[0m\u001b[1;33m.\u001b[0m\u001b[0mrun\u001b[0m\u001b[1;33m(\u001b[0m\u001b[0mtf\u001b[0m\u001b[1;33m.\u001b[0m\u001b[0minitialize_all_variables\u001b[0m\u001b[1;33m(\u001b[0m\u001b[1;33m)\u001b[0m\u001b[1;33m)\u001b[0m\u001b[1;33m\u001b[0m\u001b[0m\n\u001b[1;32m---> 13\u001b[1;33m \u001b[0mvgg\u001b[0m \u001b[1;33m=\u001b[0m \u001b[0mVgg16\u001b[0m\u001b[1;33m(\u001b[0m\u001b[0mVGG_WEIGHTS_PATH\u001b[0m\u001b[1;33m,\u001b[0m \u001b[0msess\u001b[0m\u001b[1;33m)\u001b[0m\u001b[1;33m\u001b[0m\u001b[0m\n\u001b[0m\u001b[0;32m     14\u001b[0m \u001b[0mvgg\u001b[0m\u001b[1;33m.\u001b[0m\u001b[0mprint_prob\u001b[0m\u001b[1;33m(\u001b[0m\u001b[0mroi_t0\u001b[0m\u001b[1;33m,\u001b[0m \u001b[0msess\u001b[0m\u001b[1;33m)\u001b[0m\u001b[1;33m\u001b[0m\u001b[0m\n\u001b[0;32m     15\u001b[0m \u001b[0mprint\u001b[0m\u001b[1;33m(\u001b[0m\u001b[1;34m'Forwarding the vgg net cost : %.2f s'\u001b[0m\u001b[1;33m%\u001b[0m\u001b[1;33m(\u001b[0m\u001b[0mtime\u001b[0m\u001b[1;33m.\u001b[0m\u001b[0mtime\u001b[0m\u001b[1;33m(\u001b[0m\u001b[1;33m)\u001b[0m \u001b[1;33m-\u001b[0m \u001b[0mt_start\u001b[0m\u001b[1;33m)\u001b[0m\u001b[1;33m)\u001b[0m\u001b[1;33m\u001b[0m\u001b[0m\n",
      "\u001b[1;32m/home/xlws/repos/FCNT_bak/vgg16.py\u001b[0m in \u001b[0;36m__init__\u001b[1;34m(self, weights, sess)\u001b[0m\n\u001b[0;32m     18\u001b[0m             \u001b[0mself\u001b[0m\u001b[1;33m.\u001b[0m\u001b[0mprobs\u001b[0m \u001b[1;33m=\u001b[0m \u001b[0mtf\u001b[0m\u001b[1;33m.\u001b[0m\u001b[0mnn\u001b[0m\u001b[1;33m.\u001b[0m\u001b[0msoftmax\u001b[0m\u001b[1;33m(\u001b[0m\u001b[0mself\u001b[0m\u001b[1;33m.\u001b[0m\u001b[0mfc3l\u001b[0m\u001b[1;33m)\u001b[0m\u001b[1;33m\u001b[0m\u001b[0m\n\u001b[0;32m     19\u001b[0m             \u001b[1;32mif\u001b[0m \u001b[0mweights\u001b[0m \u001b[1;32mis\u001b[0m \u001b[1;32mnot\u001b[0m \u001b[1;32mNone\u001b[0m \u001b[1;32mand\u001b[0m \u001b[0msess\u001b[0m \u001b[1;32mis\u001b[0m \u001b[1;32mnot\u001b[0m \u001b[1;32mNone\u001b[0m\u001b[1;33m:\u001b[0m\u001b[1;33m\u001b[0m\u001b[0m\n\u001b[1;32m---> 20\u001b[1;33m                 \u001b[0mself\u001b[0m\u001b[1;33m.\u001b[0m\u001b[0mload_weights\u001b[0m\u001b[1;33m(\u001b[0m\u001b[0mweights\u001b[0m\u001b[1;33m,\u001b[0m \u001b[0msess\u001b[0m\u001b[1;33m)\u001b[0m\u001b[1;33m\u001b[0m\u001b[0m\n\u001b[0m\u001b[0;32m     21\u001b[0m \u001b[1;33m\u001b[0m\u001b[0m\n\u001b[0;32m     22\u001b[0m \u001b[1;33m\u001b[0m\u001b[0m\n",
      "\u001b[1;32m/home/xlws/repos/FCNT_bak/vgg16.py\u001b[0m in \u001b[0;36mload_weights\u001b[1;34m(self, weight_file, sess)\u001b[0m\n\u001b[0;32m    247\u001b[0m         \u001b[1;32mfor\u001b[0m \u001b[0mi\u001b[0m\u001b[1;33m,\u001b[0m \u001b[0mk\u001b[0m \u001b[1;32min\u001b[0m \u001b[0menumerate\u001b[0m\u001b[1;33m(\u001b[0m\u001b[0mkeys\u001b[0m\u001b[1;33m)\u001b[0m\u001b[1;33m:\u001b[0m\u001b[1;33m\u001b[0m\u001b[0m\n\u001b[0;32m    248\u001b[0m             \u001b[1;31m#print(i, k, np.shape(weights[k]))\u001b[0m\u001b[1;33m\u001b[0m\u001b[1;33m\u001b[0m\u001b[0m\n\u001b[1;32m--> 249\u001b[1;33m             \u001b[0msess\u001b[0m\u001b[1;33m.\u001b[0m\u001b[0mrun\u001b[0m\u001b[1;33m(\u001b[0m\u001b[0mself\u001b[0m\u001b[1;33m.\u001b[0m\u001b[0mparameters\u001b[0m\u001b[1;33m[\u001b[0m\u001b[0mi\u001b[0m\u001b[1;33m]\u001b[0m\u001b[1;33m.\u001b[0m\u001b[0massign\u001b[0m\u001b[1;33m(\u001b[0m\u001b[0mweights\u001b[0m\u001b[1;33m[\u001b[0m\u001b[0mk\u001b[0m\u001b[1;33m]\u001b[0m\u001b[1;33m)\u001b[0m\u001b[1;33m)\u001b[0m\u001b[1;33m\u001b[0m\u001b[0m\n\u001b[0m\u001b[0;32m    250\u001b[0m \u001b[1;33m\u001b[0m\u001b[0m\n\u001b[0;32m    251\u001b[0m     \u001b[1;32mdef\u001b[0m \u001b[0mprint_prob\u001b[0m\u001b[1;33m(\u001b[0m\u001b[0mself\u001b[0m\u001b[1;33m,\u001b[0m \u001b[0mimg\u001b[0m\u001b[1;33m,\u001b[0m \u001b[0msess\u001b[0m\u001b[1;33m)\u001b[0m\u001b[1;33m:\u001b[0m\u001b[1;33m\u001b[0m\u001b[0m\n",
      "\u001b[1;32m/home/xlws/anaconda3/lib/python3.5/site-packages/tensorflow/python/client/session.py\u001b[0m in \u001b[0;36mrun\u001b[1;34m(self, fetches, feed_dict, options, run_metadata)\u001b[0m\n\u001b[0;32m    715\u001b[0m     \u001b[1;32mtry\u001b[0m\u001b[1;33m:\u001b[0m\u001b[1;33m\u001b[0m\u001b[0m\n\u001b[0;32m    716\u001b[0m       result = self._run(None, fetches, feed_dict, options_ptr,\n\u001b[1;32m--> 717\u001b[1;33m                          run_metadata_ptr)\n\u001b[0m\u001b[0;32m    718\u001b[0m       \u001b[1;32mif\u001b[0m \u001b[0mrun_metadata\u001b[0m\u001b[1;33m:\u001b[0m\u001b[1;33m\u001b[0m\u001b[0m\n\u001b[0;32m    719\u001b[0m         \u001b[0mproto_data\u001b[0m \u001b[1;33m=\u001b[0m \u001b[0mtf_session\u001b[0m\u001b[1;33m.\u001b[0m\u001b[0mTF_GetBuffer\u001b[0m\u001b[1;33m(\u001b[0m\u001b[0mrun_metadata_ptr\u001b[0m\u001b[1;33m)\u001b[0m\u001b[1;33m\u001b[0m\u001b[0m\n",
      "\u001b[1;32m/home/xlws/anaconda3/lib/python3.5/site-packages/tensorflow/python/client/session.py\u001b[0m in \u001b[0;36m_run\u001b[1;34m(self, handle, fetches, feed_dict, options, run_metadata)\u001b[0m\n\u001b[0;32m    913\u001b[0m     \u001b[1;32mif\u001b[0m \u001b[0mfinal_fetches\u001b[0m \u001b[1;32mor\u001b[0m \u001b[0mfinal_targets\u001b[0m\u001b[1;33m:\u001b[0m\u001b[1;33m\u001b[0m\u001b[0m\n\u001b[0;32m    914\u001b[0m       results = self._do_run(handle, final_targets, final_fetches,\n\u001b[1;32m--> 915\u001b[1;33m                              feed_dict_string, options, run_metadata)\n\u001b[0m\u001b[0;32m    916\u001b[0m     \u001b[1;32melse\u001b[0m\u001b[1;33m:\u001b[0m\u001b[1;33m\u001b[0m\u001b[0m\n\u001b[0;32m    917\u001b[0m       \u001b[0mresults\u001b[0m \u001b[1;33m=\u001b[0m \u001b[1;33m[\u001b[0m\u001b[1;33m]\u001b[0m\u001b[1;33m\u001b[0m\u001b[0m\n",
      "\u001b[1;32m/home/xlws/anaconda3/lib/python3.5/site-packages/tensorflow/python/client/session.py\u001b[0m in \u001b[0;36m_do_run\u001b[1;34m(self, handle, target_list, fetch_list, feed_dict, options, run_metadata)\u001b[0m\n\u001b[0;32m    963\u001b[0m     \u001b[1;32mif\u001b[0m \u001b[0mhandle\u001b[0m \u001b[1;32mis\u001b[0m \u001b[1;32mNone\u001b[0m\u001b[1;33m:\u001b[0m\u001b[1;33m\u001b[0m\u001b[0m\n\u001b[0;32m    964\u001b[0m       return self._do_call(_run_fn, self._session, feed_dict, fetch_list,\n\u001b[1;32m--> 965\u001b[1;33m                            target_list, options, run_metadata)\n\u001b[0m\u001b[0;32m    966\u001b[0m     \u001b[1;32melse\u001b[0m\u001b[1;33m:\u001b[0m\u001b[1;33m\u001b[0m\u001b[0m\n\u001b[0;32m    967\u001b[0m       return self._do_call(_prun_fn, self._session, handle, feed_dict,\n",
      "\u001b[1;32m/home/xlws/anaconda3/lib/python3.5/site-packages/tensorflow/python/client/session.py\u001b[0m in \u001b[0;36m_do_call\u001b[1;34m(self, fn, *args)\u001b[0m\n\u001b[0;32m    983\u001b[0m         \u001b[1;32mexcept\u001b[0m \u001b[0mKeyError\u001b[0m\u001b[1;33m:\u001b[0m\u001b[1;33m\u001b[0m\u001b[0m\n\u001b[0;32m    984\u001b[0m           \u001b[1;32mpass\u001b[0m\u001b[1;33m\u001b[0m\u001b[0m\n\u001b[1;32m--> 985\u001b[1;33m       \u001b[1;32mraise\u001b[0m \u001b[0mtype\u001b[0m\u001b[1;33m(\u001b[0m\u001b[0me\u001b[0m\u001b[1;33m)\u001b[0m\u001b[1;33m(\u001b[0m\u001b[0mnode_def\u001b[0m\u001b[1;33m,\u001b[0m \u001b[0mop\u001b[0m\u001b[1;33m,\u001b[0m \u001b[0mmessage\u001b[0m\u001b[1;33m)\u001b[0m\u001b[1;33m\u001b[0m\u001b[0m\n\u001b[0m\u001b[0;32m    986\u001b[0m \u001b[1;33m\u001b[0m\u001b[0m\n\u001b[0;32m    987\u001b[0m   \u001b[1;32mdef\u001b[0m \u001b[0m_extend_graph\u001b[0m\u001b[1;33m(\u001b[0m\u001b[0mself\u001b[0m\u001b[1;33m)\u001b[0m\u001b[1;33m:\u001b[0m\u001b[1;33m\u001b[0m\u001b[0m\n",
      "\u001b[1;31mInternalError\u001b[0m: Dst tensor is not initialized.\n\t [[Node: vgg/Assign_21/value = Const[dtype=DT_FLOAT, value=Tensor<type: float shape: [512] values: 0.097223252 -0.07323014 0.15150416...>, _device=\"/job:localhost/replica:0/task:0/gpu:0\"]()]]\nCaused by op 'vgg/Assign_21/value', defined at:\n  File \"/home/xlws/anaconda3/lib/python3.5/runpy.py\", line 184, in _run_module_as_main\n    \"__main__\", mod_spec)\n  File \"/home/xlws/anaconda3/lib/python3.5/runpy.py\", line 85, in _run_code\n    exec(code, run_globals)\n  File \"/home/xlws/anaconda3/lib/python3.5/site-packages/ipykernel/__main__.py\", line 3, in <module>\n    app.launch_new_instance()\n  File \"/home/xlws/anaconda3/lib/python3.5/site-packages/traitlets/config/application.py\", line 596, in launch_instance\n    app.start()\n  File \"/home/xlws/anaconda3/lib/python3.5/site-packages/ipykernel/kernelapp.py\", line 442, in start\n    ioloop.IOLoop.instance().start()\n  File \"/home/xlws/anaconda3/lib/python3.5/site-packages/zmq/eventloop/ioloop.py\", line 162, in start\n    super(ZMQIOLoop, self).start()\n  File \"/home/xlws/anaconda3/lib/python3.5/site-packages/tornado/ioloop.py\", line 883, in start\n    handler_func(fd_obj, events)\n  File \"/home/xlws/anaconda3/lib/python3.5/site-packages/tornado/stack_context.py\", line 275, in null_wrapper\n    return fn(*args, **kwargs)\n  File \"/home/xlws/anaconda3/lib/python3.5/site-packages/zmq/eventloop/zmqstream.py\", line 440, in _handle_events\n    self._handle_recv()\n  File \"/home/xlws/anaconda3/lib/python3.5/site-packages/zmq/eventloop/zmqstream.py\", line 472, in _handle_recv\n    self._run_callback(callback, msg)\n  File \"/home/xlws/anaconda3/lib/python3.5/site-packages/zmq/eventloop/zmqstream.py\", line 414, in _run_callback\n    callback(*args, **kwargs)\n  File \"/home/xlws/anaconda3/lib/python3.5/site-packages/tornado/stack_context.py\", line 275, in null_wrapper\n    return fn(*args, **kwargs)\n  File \"/home/xlws/anaconda3/lib/python3.5/site-packages/ipykernel/kernelbase.py\", line 276, in dispatcher\n    return self.dispatch_shell(stream, msg)\n  File \"/home/xlws/anaconda3/lib/python3.5/site-packages/ipykernel/kernelbase.py\", line 228, in dispatch_shell\n    handler(stream, idents, msg)\n  File \"/home/xlws/anaconda3/lib/python3.5/site-packages/ipykernel/kernelbase.py\", line 391, in execute_request\n    user_expressions, allow_stdin)\n  File \"/home/xlws/anaconda3/lib/python3.5/site-packages/ipykernel/ipkernel.py\", line 199, in do_execute\n    shell.run_cell(code, store_history=store_history, silent=silent)\n  File \"/home/xlws/anaconda3/lib/python3.5/site-packages/IPython/core/interactiveshell.py\", line 2723, in run_cell\n    interactivity=interactivity, compiler=compiler, result=result)\n  File \"/home/xlws/anaconda3/lib/python3.5/site-packages/IPython/core/interactiveshell.py\", line 2825, in run_ast_nodes\n    if self.run_code(code, result):\n  File \"/home/xlws/anaconda3/lib/python3.5/site-packages/IPython/core/interactiveshell.py\", line 2885, in run_code\n    exec(code_obj, self.user_global_ns, self.user_ns)\n  File \"<ipython-input-4-f63ed35bc59d>\", line 13, in <module>\n    vgg = Vgg16(VGG_WEIGHTS_PATH, sess)\n  File \"/home/xlws/repos/FCNT_bak/vgg16.py\", line 20, in __init__\n    self.load_weights(weights, sess)\n  File \"/home/xlws/repos/FCNT_bak/vgg16.py\", line 249, in load_weights\n    sess.run(self.parameters[i].assign(weights[k]))\n  File \"/home/xlws/anaconda3/lib/python3.5/site-packages/tensorflow/python/ops/variables.py\", line 505, in assign\n    return state_ops.assign(self._variable, value, use_locking=use_locking)\n  File \"/home/xlws/anaconda3/lib/python3.5/site-packages/tensorflow/python/ops/gen_state_ops.py\", line 45, in assign\n    use_locking=use_locking, name=name)\n  File \"/home/xlws/anaconda3/lib/python3.5/site-packages/tensorflow/python/framework/op_def_library.py\", line 454, in apply_op\n    as_ref=input_arg.is_ref)\n  File \"/home/xlws/anaconda3/lib/python3.5/site-packages/tensorflow/python/framework/ops.py\", line 628, in convert_to_tensor\n    ret = conversion_func(value, dtype=dtype, name=name, as_ref=as_ref)\n  File \"/home/xlws/anaconda3/lib/python3.5/site-packages/tensorflow/python/framework/constant_op.py\", line 180, in _constant_tensor_conversion_function\n    return constant(v, dtype=dtype, name=name)\n  File \"/home/xlws/anaconda3/lib/python3.5/site-packages/tensorflow/python/framework/constant_op.py\", line 167, in constant\n    attrs={\"value\": tensor_value, \"dtype\": dtype_value}, name=name).outputs[0]\n  File \"/home/xlws/anaconda3/lib/python3.5/site-packages/tensorflow/python/framework/ops.py\", line 2333, in create_op\n    original_op=self._default_original_op, op_def=op_def)\n  File \"/home/xlws/anaconda3/lib/python3.5/site-packages/tensorflow/python/framework/ops.py\", line 1252, in __init__\n    self._traceback = _extract_stack()\n"
     ]
    }
   ],
   "source": [
    "print('Reading the first image...')\n",
    "## Instantiate inputProducer and retrive the first img\n",
    "# with associated ground truth. \n",
    "inputProducer = InputProducer(IMG_PATH, GT_PATH)\n",
    "img, gt, s  = next(inputProducer.gen_img)\n",
    "roi_t0, _, _ = inputProducer.extract_roi(img, gt)\n",
    "\n",
    "# Predicts the first img.\n",
    "print('Classify it with a pre-trained Vgg16 model.')\n",
    "t_start = time.time()\n",
    "sess = tf.Session()\n",
    "sess.run(tf.initialize_all_variables())\n",
    "vgg = Vgg16(VGG_WEIGHTS_PATH, sess)\n",
    "vgg.print_prob(roi_t0, sess)\n",
    "print('Forwarding the vgg net cost : %.2f s'%(time.time() - t_start))\n",
    "\n",
    "## At t=0. Perform the following:\n",
    "# 1. Train selCNN network for both local and gloabl feature maps\n",
    "# 2. Train G and S networks.\n",
    "\n",
    "\n",
    "## Train selCNN networks with first frame roi\n",
    "# reshape gt_M for compatabilities\n",
    "# Gen anotated mask for target arear\n",
    "print('Train the local-SelCNN network for %s times.'%FLAGS.iter_step_sel)\n",
    "t = time.time()\n",
    "lselCNN = SelCNN('sel_local', vgg.conv4_3, (1,28,28,1))\n",
    "sgt_M = inputProducer.gen_mask(lselCNN.pre_M_size)\n",
    "sgt_M = sgt_M[np.newaxis,:,:,np.newaxis]\n",
    "feed_dict = {vgg.imgs: [roi_t0], lselCNN.gt_M: sgt_M}\n",
    "\n",
    "selCNN = lselCNN\n",
    "\n",
    "\n",
    "# Initialize variables\n",
    "global_step = tf.Variable(0, trainable=False)\n",
    "selCNN_vars = selCNN.variables \n",
    "init_vars_op = tf.initialize_variables(selCNN_vars + [global_step], name='init_selCNN')\n",
    "sess.run(init_vars_op)\n",
    "\n",
    "# Retrive trainning op\n",
    "train_op, losses, lr, optimizer = selCNN.train_op(global_step)\n",
    "print(sess.run(tf.report_uninitialized_variables()))\n",
    "# Train for iter_step_sel times\n",
    "# Inspects loss curve and pre_M visually\n"
   ]
  },
  {
   "cell_type": "code",
   "execution_count": null,
   "metadata": {
    "collapsed": false
   },
   "outputs": [],
   "source": [
    "plt.imshow(roi_t0)"
   ]
  },
  {
   "cell_type": "code",
   "execution_count": null,
   "metadata": {
    "collapsed": false
   },
   "outputs": [],
   "source": [
    "import skimage.io\n",
    "skimage.io.imshow(sgt_M[0,:,:,0])"
   ]
  },
  {
   "cell_type": "code",
   "execution_count": null,
   "metadata": {
    "collapsed": false
   },
   "outputs": [],
   "source": [
    "skimage.io.imshow(vgg.img_porcessed.astype(np.uint8))"
   ]
  },
  {
   "cell_type": "code",
   "execution_count": null,
   "metadata": {
    "collapsed": true
   },
   "outputs": [],
   "source": [
    "res4, res5 = sess.run([vgg.conv4_3, vgg.conv5_3], feed_dict=feed_dict)\n",
    "skimage.io.imshow(res4[0,:,:,0])"
   ]
  },
  {
   "cell_type": "code",
   "execution_count": null,
   "metadata": {
    "collapsed": false
   },
   "outputs": [],
   "source": [
    "sess.run(tf.report_uninitialized_variables())"
   ]
  },
  {
   "cell_type": "code",
   "execution_count": null,
   "metadata": {
    "collapsed": false
   },
   "outputs": [],
   "source": [
    "loss, pm = [], []\n",
    "for step in range(1000):\n",
    "    _, total_loss, lr_, pre_M_ = sess.run([train_op, losses, lr, selCNN.pre_M], feed_dict=feed_dict)\n",
    "    print('%s Learning rate: %s   Loss: %s  '%(selCNN.scope, lr_, total_loss))\n",
    "    if step % 100:\n",
    "        loss += [total_loss]\n",
    "        pm += [pre_M_]\n",
    "        \n",
    "        \n",
    "print('Training the local-SelCNN cost %.2f s'%(time.time() - t))"
   ]
  },
  {
   "cell_type": "code",
   "execution_count": null,
   "metadata": {
    "collapsed": false
   },
   "outputs": [],
   "source": [
    "plt.plot(loss)"
   ]
  },
  {
   "cell_type": "code",
   "execution_count": null,
   "metadata": {
    "collapsed": false
   },
   "outputs": [],
   "source": [
    "for img in pm:\n",
    "    plt.figure()\n",
    "    plt.imshow(img[0,:,:,0])"
   ]
  },
  {
   "cell_type": "code",
   "execution_count": null,
   "metadata": {
    "collapsed": true
   },
   "outputs": [],
   "source": []
  }
 ],
 "metadata": {
  "anaconda-cloud": {},
  "kernelspec": {
   "display_name": "Python [Root]",
   "language": "python",
   "name": "Python [Root]"
  },
  "language_info": {
   "codemirror_mode": {
    "name": "ipython",
    "version": 3
   },
   "file_extension": ".py",
   "mimetype": "text/x-python",
   "name": "python",
   "nbconvert_exporter": "python",
   "pygments_lexer": "ipython3",
   "version": "3.5.2"
  }
 },
 "nbformat": 4,
 "nbformat_minor": 0
}
