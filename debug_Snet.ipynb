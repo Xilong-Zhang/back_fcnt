{
 "cells": [
  {
   "cell_type": "code",
   "execution_count": 1,
   "metadata": {
    "collapsed": false
   },
   "outputs": [
    {
     "name": "stderr",
     "output_type": "stream",
     "text": [
      "/home/xlws/repos/FCNT_bak/inputproducer.py:85: VisibleDeprecationWarning: using a non-integer number instead of an integer will result in an error in the future\n",
      "  roi = convas[cy-half:cy+half, cx-half:cx+half, :]\n"
     ]
    },
    {
     "name": "stdout",
     "output_type": "stream",
     "text": [
      "Old English sheepdog, bobtail 0.654105\n",
      "miniature poodle 0.0409054\n",
      "Tibetan terrier, chrysanthemum dog 0.0321338\n",
      "standard poodle 0.0294567\n",
      "Sealyham terrier, Sealyham 0.0269377\n",
      "0.0013186425201 max of mask\n",
      "(224, 224, 3)\n",
      "250 max convas\n",
      "[]\n",
      "47.2104\n",
      "45.2593\n",
      "46.7317\n",
      "47.18\n",
      "44.6644\n",
      "43.0643\n",
      "51.5117\n",
      "48.1411\n",
      "48.0817\n",
      "52.6306\n",
      "49.6254\n",
      "51.6094\n",
      "48.0161\n",
      "49.68\n",
      "53.7995\n",
      "49.8145\n",
      "45.8518\n",
      "49.4372\n",
      "46.7399\n",
      "53.5927\n",
      "43.2706\n",
      "48.4198\n",
      "47.0074\n",
      "46.3897\n",
      "49.9589\n",
      "49.1306\n",
      "45.2476\n",
      "53.036\n",
      "52.1486\n",
      "50.0065\n",
      "48.6811\n",
      "48.4042\n",
      "49.2552\n",
      "51.0576\n",
      "54.9868\n",
      "52.2793\n",
      "52.3155\n",
      "48.5909\n",
      "50.1263\n",
      "48.9457\n",
      "50.9195\n",
      "43.6886\n",
      "41.4481\n",
      "43.3109\n",
      "45.9635\n",
      "53.0822\n",
      "44.9156\n",
      "57.7455\n",
      "50.9173\n",
      "44.0012\n",
      "44.7685\n",
      "44.291\n",
      "45.7409\n",
      "51.5354\n",
      "51.7353\n",
      "43.9211\n",
      "44.8692\n",
      "44.488\n",
      "46.517\n",
      "46.9958\n",
      "47.5994\n",
      "50.0296\n",
      "47.1384\n",
      "45.0407\n",
      "49.2531\n",
      "48.0323\n",
      "49.9042\n",
      "48.0828\n",
      "40.9667\n",
      "42.5938\n",
      "47.9778\n",
      "47.1424\n",
      "46.4303\n",
      "47.874\n",
      "45.5854\n",
      "45.934\n",
      "48.1561\n",
      "43.3512\n",
      "50.848\n",
      "49.7946\n",
      "47.8287\n",
      "43.4689\n",
      "47.4363\n",
      "48.3542\n",
      "48.0039\n",
      "46.3899\n",
      "50.1501\n",
      "49.133\n",
      "40.4459\n",
      "46.4391\n",
      "49.025\n",
      "46.2083\n",
      "45.6528\n",
      "51.417\n",
      "45.6306\n",
      "47.712\n",
      "54.9401\n",
      "43.1342\n",
      "45.6079\n",
      "47.8599\n",
      "45.1697\n",
      "46.646\n",
      "47.1833\n",
      "43.8182\n",
      "47.6491\n",
      "46.2457\n",
      "48.8025\n",
      "45.2332\n",
      "49.2273\n",
      "41.2951\n",
      "46.1822\n",
      "45.0226\n",
      "43.9239\n",
      "45.4111\n",
      "43.6503\n",
      "43.7529\n",
      "46.1674\n",
      "44.3621\n",
      "48.8705\n",
      "43.6101\n",
      "44.5275\n",
      "49.6506\n",
      "43.0224\n",
      "45.5903\n",
      "46.3328\n",
      "40.8451\n",
      "48.3688\n",
      "50.154\n",
      "47.1721\n",
      "41.2165\n",
      "48.4686\n",
      "45.1658\n",
      "46.2315\n",
      "50.401\n",
      "50.9509\n",
      "37.3954\n",
      "44.5566\n",
      "49.2848\n",
      "41.5641\n",
      "49.171\n",
      "48.3445\n",
      "49.6862\n",
      "48.4948\n",
      "48.842\n",
      "47.6253\n",
      "51.3386\n",
      "48.4021\n",
      "46.3873\n",
      "42.8777\n",
      "54.1382\n",
      "47.5114\n",
      "54.6425\n",
      "44.761\n",
      "44.8032\n",
      "50.159\n",
      "49.042\n",
      "45.6972\n",
      "42.5441\n",
      "47.0238\n",
      "40.8625\n",
      "42.783\n",
      "46.9193\n",
      "44.8824\n",
      "48.1056\n",
      "43.29\n",
      "49.0898\n",
      "46.141\n",
      "47.4478\n",
      "49.5111\n",
      "52.8832\n",
      "44.9693\n",
      "49.7581\n",
      "46.9522\n",
      "42.9268\n",
      "43.7654\n",
      "46.388\n",
      "40.1938\n",
      "44.2946\n",
      "45.7453\n",
      "49.4673\n",
      "47.706\n",
      "44.3165\n",
      "48.3684\n",
      "41.222\n",
      "44.9772\n",
      "46.3701\n",
      "45.7078\n",
      "46.8877\n",
      "38.4815\n",
      "50.1202\n",
      "49.1599\n",
      "38.5094\n",
      "44.1385\n",
      "43.1391\n",
      "44.7241\n",
      "49.9246\n",
      "43.1971\n",
      "47.7622\n",
      "46.9354\n",
      "46.004\n",
      "0.0013186425201 max of mask\n",
      "(224, 224, 3)\n",
      "228 max convas\n",
      "[]\n",
      "41.6185\n",
      "48.1005\n",
      "46.0974\n",
      "43.5973\n",
      "38.3894\n",
      "51.2853\n",
      "48.0334\n",
      "48.957\n",
      "48.3382\n",
      "38.7179\n",
      "47.0499\n",
      "43.4411\n",
      "45.7037\n",
      "42.7209\n",
      "50.8792\n",
      "43.917\n",
      "44.5972\n",
      "47.5778\n",
      "50.4295\n",
      "45.4081\n",
      "43.6331\n",
      "45.645\n",
      "44.1974\n",
      "42.0819\n",
      "44.5975\n",
      "45.519\n",
      "50.1416\n",
      "47.4134\n",
      "44.3238\n",
      "44.5096\n",
      "43.4509\n",
      "48.3202\n",
      "42.6824\n",
      "45.9387\n",
      "46.3428\n",
      "46.9978\n",
      "47.6904\n",
      "45.1019\n",
      "50.9283\n",
      "45.1234\n",
      "43.2191\n",
      "48.422\n",
      "42.9579\n",
      "40.4396\n",
      "49.3199\n",
      "48.4826\n",
      "43.0774\n",
      "40.8649\n",
      "42.6853\n",
      "41.9457\n",
      "45.6668\n",
      "53.6322\n",
      "42.0935\n",
      "45.8162\n",
      "45.9879\n",
      "45.5299\n",
      "41.19\n",
      "47.7577\n",
      "41.9531\n",
      "43.7843\n",
      "42.655\n",
      "42.701\n",
      "49.5812\n",
      "50.1873\n",
      "50.2593\n",
      "41.12\n",
      "48.6922\n",
      "42.4768\n",
      "48.6461\n",
      "40.0266\n",
      "41.347\n",
      "46.4349\n",
      "47.5492\n",
      "44.0062\n",
      "43.3496\n",
      "41.7289\n",
      "39.1474\n",
      "43.6361\n",
      "38.0867\n",
      "48.5941\n",
      "44.3832\n",
      "54.0227\n",
      "45.3143\n",
      "44.9747\n",
      "40.5966\n",
      "47.6456\n",
      "47.0692\n",
      "48.2666\n",
      "50.5125\n",
      "44.4588\n",
      "43.9624\n",
      "47.9205\n",
      "46.5361\n",
      "43.4313\n",
      "45.9219\n",
      "47.6449\n",
      "46.2229\n",
      "43.5288\n",
      "42.9545\n",
      "50.7002\n",
      "42.6831\n",
      "43.5793\n",
      "46.3864\n",
      "48.2244\n",
      "44.1166\n",
      "44.4727\n",
      "47.7612\n",
      "47.0937\n",
      "42.7135\n",
      "45.6713\n",
      "41.4789\n",
      "45.1898\n",
      "52.2753\n",
      "49.5584\n",
      "43.5159\n",
      "43.7511\n",
      "54.3823\n",
      "44.7134\n",
      "44.6771\n",
      "45.7611\n",
      "40.243\n",
      "44.5413\n",
      "46.7313\n",
      "49.7687\n",
      "45.9818\n",
      "48.527\n",
      "47.9543\n",
      "50.9491\n",
      "43.3136\n",
      "48.7675\n",
      "40.4501\n",
      "43.5831\n",
      "43.7509\n",
      "47.7367\n",
      "47.4674\n",
      "40.3775\n",
      "45.0268\n",
      "47.88\n",
      "46.9625\n",
      "46.461\n",
      "49.5262\n",
      "47.1305\n",
      "46.3592\n",
      "52.6806\n",
      "44.3625\n",
      "53.5623\n",
      "43.3736\n",
      "43.3646\n",
      "40.7454\n",
      "45.7406\n",
      "43.3005\n",
      "40.0726\n",
      "46.8431\n",
      "47.5689\n",
      "43.4631\n",
      "42.2504\n",
      "44.0551\n",
      "54.6097\n",
      "43.0401\n",
      "45.9742\n",
      "48.6776\n",
      "54.8852\n",
      "44.7574\n",
      "46.1741\n",
      "45.6328\n",
      "39.8011\n",
      "46.7782\n",
      "50.5359\n",
      "43.7616\n",
      "45.1241\n",
      "43.036\n",
      "46.2666\n",
      "44.1087\n",
      "47.8631\n",
      "43.5748\n",
      "45.7535\n",
      "42.8411\n",
      "45.0522\n",
      "51.5512\n",
      "45.4258\n",
      "47.3423\n",
      "44.3655\n",
      "43.6622\n",
      "41.4351\n",
      "44.2115\n",
      "45.7378\n",
      "45.7844\n",
      "46.8794\n",
      "46.3427\n",
      "48.2005\n",
      "44.4339\n",
      "46.5489\n",
      "48.7128\n",
      "42.3569\n",
      "44.6128\n",
      "51.8902\n",
      "44.422\n",
      "47.8661\n",
      "55.7477\n",
      "47.3797\n"
     ]
    },
    {
     "data": {
      "text/plain": [
       "'\\n# Gen anotated mask for target arear\\nsgt_M = inputProducer.gen_mask(lselCNN.pre_M_size)\\nggt_M = inputProducer.gen_mask(gselCNN.pre_M_size)\\n\\n## Train selCNN networks with first frame roi\\n# reshape gt_M for compatabilities\\nsgt_M = sgt_M[np.newaxis,:,:,np.newaxis]\\nggt_M = ggt_M[np.newaxis,:,:,np.newaxis]\\n\\nfeed_dict = {vgg.imgs: [roi_t0], \\n\\t\\t\\tlselCNN.gt_M: sgt_M,\\n\\t\\t\\tgselCNN.gt_M: ggt_M} # corrpus the other nets?\\n\\ntrain_selCNN(sess, lselCNN, feed_dict)\\ntrain_selCNN(sess, gselCNN, feed_dict)\\n'"
      ]
     },
     "execution_count": 1,
     "metadata": {},
     "output_type": "execute_result"
    }
   ],
   "source": [
    "\"\"\"\n",
    "Main script for FCNT tracker. \n",
    "\"\"\"\n",
    "#%%\n",
    "# Import custom class and functions\n",
    "from inputproducer import InputProducer\n",
    "from tracker import TrackerVanilla\n",
    "from vgg16 import Vgg16\n",
    "from selcnn import SelCNN\n",
    "from sgnet import GNet, SNet\n",
    "from utils import img_with_bbox, IOU_eval\n",
    "\n",
    "import numpy as np \n",
    "import tensorflow as tf\n",
    "\n",
    "import os\n",
    "\n",
    "#%%\n",
    "tf.app.flags.DEFINE_integer('iter_step_sel', 200,\n",
    "                          \"\"\"Number of steps for trainning\"\"\"\n",
    "                          \"\"\"selCNN networks.\"\"\")\n",
    "tf.app.flags.DEFINE_integer('iter_step_sg', 50,\n",
    "                          \"\"\"Number of steps for trainning\"\"\"\n",
    "                          \"\"\"SGnet works\"\"\")\n",
    "tf.app.flags.DEFINE_integer('num_sel', 384,\n",
    "                          \"\"\"Number of feature maps selected.\"\"\")\n",
    "tf.app.flags.DEFINE_integer('iter_max', 200,\n",
    "\t\t\t\t\t\t\t\"\"\"Max iter times through imgs\"\"\")\n",
    "\n",
    "FLAGS = tf.app.flags.FLAGS\n",
    "\n",
    "## Define varies path\n",
    "DATA_ROOT = 'data/Dog1'\n",
    "IMG_PATH = os.path.join(DATA_ROOT, 'img')\n",
    "GT_PATH = os.path.join(DATA_ROOT, 'groundtruth_rect.txt')\n",
    "VGG_WEIGHTS_PATH = 'vgg16_weights.npz'\n",
    "#%%\n",
    "def train_selCNN(sess, selCNN, feed_dict):\n",
    "\t# Initialize variables\n",
    "\tglobal_step = tf.Variable(0, trainable=False)\n",
    "\tselCNN_vars = selCNN.variables \n",
    "\tinit_vars_op = tf.initialize_variables(selCNN_vars + [global_step], name='init_selCNN')\n",
    "\tsess.run(init_vars_op)\n",
    "\n",
    "\t# Retrive trainning op\n",
    "\ttrain_op, losses, lr, optimizer = selCNN.train_op(global_step)\n",
    "\tprint(sess.run(tf.report_uninitialized_variables()))\n",
    "\t# Train for iter_step_sel times\n",
    "\t# Inspects loss curve and pre_M visually\n",
    "\tfor step in range(FLAGS.iter_step_sel):\n",
    "\t\t_, total_loss, lr_ = sess.run([train_op, losses, lr], feed_dict=feed_dict)\n",
    "\t\tprint(total_loss)\n",
    "\n",
    "\n",
    "def train_sgNet(sess, gnet, snet, sgt_M, ggt_M, feed_dict):\n",
    "\t\"\"\"\n",
    "\tTrain sgnet by minimize the loss\n",
    "\tLoss = Lg + Ls\n",
    "\twhere Li = |pre_Mi - gt_M|**2 + Weights_decay_term_i\n",
    "\n",
    "\t\"\"\"\n",
    "\t# Initialize sgNet variables\n",
    "\tsgNet_vars = gnet.variables + snet.variables\n",
    "\tinit_SGNet_vars_op = tf.initialize_variables(sgNet_vars, name='init_sgNet')\n",
    "\tsess.run(init_SGNet_vars_op)\n",
    "\n",
    "\t# Define composite loss\n",
    "\ttotal_losses = snet.loss(sgt_M) + gnet.loss(ggt_M)\n",
    "\n",
    "\t# Define trainning op\n",
    "\toptimizer = tf.train.GradientDescentOptimizer(1e-6)\n",
    "\ttrain_op = optimizer.minimize(total_losses, var_list= sgNet_vars)\n",
    "\n",
    "\tfor step in range(FLAGS.iter_step_sg):\n",
    "\t\tloss, _ = sess.run([total_losses, train_op], feed_dict = feed_dict)\n",
    "\t\tprint(loss)\n",
    "\n",
    "\n",
    "\n",
    "def gen_mask_phi(img_sz, loc):\n",
    "\tx,y,w,h = loc\n",
    "\tphi = np.zeros(img_sz)\n",
    "\tphi[y-int(0.5*h): y+int(0.5*h), x-int(0.5*w):x+int(0.5*w)] = 1\n",
    "\treturn phi\n",
    "#%%\n",
    "\n",
    "## Instantiate inputProducer and retrive the first img\n",
    "# with associated ground truth. \n",
    "inputProducer = InputProducer(IMG_PATH, GT_PATH)\n",
    "img, gt, t  = next(inputProducer.gen_img)\n",
    "roi_t0, _, _ = inputProducer.extract_roi(img, gt)\n",
    "\n",
    "# Predicts the first img.\n",
    "sess = tf.Session()\n",
    "sess.run(tf.initialize_all_variables())\n",
    "vgg = Vgg16(VGG_WEIGHTS_PATH, sess)\n",
    "vgg.print_prob(roi_t0, sess)\n",
    "\n",
    "## At t=0. Perform the following:\n",
    "# 1. Train selCNN network for both local and gloabl feature maps\n",
    "# 2. Train G and S networks.\n",
    "assert t == 0\n",
    "\n",
    "## Train selCNN networks with first frame roi\n",
    "# reshape gt_M for compatabilities\n",
    "# Gen anotated mask for target arear\n",
    "\n",
    "lselCNN = SelCNN('sel_local', vgg.conv4_3, (1,28,28,1))\n",
    "sgt_M = inputProducer.gen_mask(lselCNN.pre_M_size)\n",
    "sgt_M = sgt_M[np.newaxis,:,:,np.newaxis]\n",
    "feed_dict = {vgg.imgs: [roi_t0], lselCNN.gt_M: sgt_M}\n",
    "train_selCNN(sess, lselCNN, feed_dict)\n",
    "\n",
    "\n",
    "gselCNN = SelCNN('sel_global', vgg.conv5_3, (1,14,14,1))\n",
    "ggt_M = inputProducer.gen_mask(gselCNN.pre_M_size)\n",
    "ggt_M = ggt_M[np.newaxis,:,:,np.newaxis]\n",
    "feed_dict[gselCNN.gt_M] = ggt_M # corrpus the other nets?\n",
    "train_selCNN(sess, gselCNN, feed_dict)\n",
    "\n",
    "\n",
    "\n",
    "\"\"\"\n",
    "# Gen anotated mask for target arear\n",
    "sgt_M = inputProducer.gen_mask(lselCNN.pre_M_size)\n",
    "ggt_M = inputProducer.gen_mask(gselCNN.pre_M_size)\n",
    "\n",
    "## Train selCNN networks with first frame roi\n",
    "# reshape gt_M for compatabilities\n",
    "sgt_M = sgt_M[np.newaxis,:,:,np.newaxis]\n",
    "ggt_M = ggt_M[np.newaxis,:,:,np.newaxis]\n",
    "\n",
    "feed_dict = {vgg.imgs: [roi_t0], \n",
    "\t\t\tlselCNN.gt_M: sgt_M,\n",
    "\t\t\tgselCNN.gt_M: ggt_M} # corrpus the other nets?\n",
    "\n",
    "train_selCNN(sess, lselCNN, feed_dict)\n",
    "train_selCNN(sess, gselCNN, feed_dict)\n",
    "\"\"\"\n",
    "\n",
    "\n",
    "## At t>0. Perform target localization and distracter detection at every frame,\n",
    "## perform SNget adaptive update every 20 frames, perform SNet discrimtive \n",
    "## update if distracter detection return True.\n"
   ]
  },
  {
   "cell_type": "code",
   "execution_count": 2,
   "metadata": {
    "collapsed": false
   },
   "outputs": [
    {
     "name": "stdout",
     "output_type": "stream",
     "text": [
      "Selected maps shape: (1, 28, 28, 384)\n",
      "Selected maps shape: (1, 14, 14, 384)\n",
      "[1, 14, 14, 36] conv1 shape\n",
      "[1, 14, 14, 1] conv shape\n",
      "Shape of the out put heat map for GNet is [1, 14, 14, 1]\n",
      "[1, 28, 28, 36] conv1 shape\n",
      "[1, 28, 28, 1] conv shape\n",
      "Shape of the out put heat map for SNet is [1, 28, 28, 1]\n",
      "3.81369e+06\n",
      "587.055\n",
      "397.535\n",
      "288.233\n",
      "218.495\n",
      "171.34\n",
      "138.315\n",
      "114.729\n",
      "96.9512\n",
      "82.7066\n",
      "71.0463\n",
      "61.4729\n",
      "53.5941\n",
      "47.0751\n",
      "41.6196\n",
      "37.0214\n",
      "33.1311\n",
      "29.8286\n",
      "27.0176\n",
      "24.6142\n",
      "22.5392\n",
      "20.737\n",
      "19.1675\n",
      "17.7967\n",
      "16.5959\n",
      "15.5404\n",
      "14.611\n",
      "13.7911\n",
      "13.0625\n",
      "12.4123\n",
      "11.826\n",
      "11.2915\n",
      "10.8008\n",
      "10.3467\n",
      "9.92522\n",
      "9.53296\n",
      "9.16714\n",
      "8.82449\n",
      "8.50235\n",
      "8.19811\n",
      "7.91019\n",
      "7.63758\n",
      "7.3794\n",
      "7.13485\n",
      "6.90313\n",
      "6.68348\n",
      "6.4752\n",
      "6.27765\n",
      "6.09021\n",
      "5.91232\n"
     ]
    }
   ],
   "source": [
    "\n",
    "# Perform saliency maps selection \n",
    "s_sel_maps, s_idx = lselCNN.sel_feature_maps(sess, vgg.conv4_3, feed_dict,FLAGS.num_sel)\n",
    "g_sel_maps, g_idx = gselCNN.sel_feature_maps(sess, vgg.conv5_3, feed_dict,FLAGS.num_sel)\n",
    "\n",
    "assert isinstance(s_sel_maps, np.ndarray)\n",
    "assert isinstance(g_sel_maps, np.ndarray)\n",
    "assert len(s_sel_maps.shape) == 4\n",
    "\n",
    "# Instantiate G and S networks.\n",
    "gnet = GNet('GNet', g_sel_maps.shape)\n",
    "snet = SNet('SNet', s_sel_maps.shape)\n",
    "\n",
    "## Train G and S nets by minimizing a composite loss.\n",
    "## with feeding selected saliency maps for each networks.\n",
    "feed_dict = {gnet.input_maps: g_sel_maps, snet.input_maps: s_sel_maps}\n",
    "train_sgNet(sess, gnet, snet, sgt_M, ggt_M, feed_dict)\n",
    "s_sel_maps_t0 = s_sel_maps\n"
   ]
  },
  {
   "cell_type": "code",
   "execution_count": 4,
   "metadata": {
    "collapsed": true
   },
   "outputs": [],
   "source": [
    "\n",
    "\n",
    "from queue import Queue\n",
    "from scipy.misc import imresize\n",
    "from operator import add\n",
    "\n",
    "\n",
    "\n",
    "\n",
    "class Tracker:\n",
    "\t\"\"\"\n",
    "\tGeneric tracking model. A location is represented by an affine transformation (e.g., Xt−1), which warps the\n",
    "\tcoordinate system so that the target lies within the unit square. Particles representing possible target locations Xt, \n",
    "\tat time t are sampled according to P(Xt|Xt−1), which in this case is a diagonal-covariance Gaussian centered at Xt−1.\n",
    "\t\n",
    "\tWhere:\n",
    "\tXt = (xt, yt, θt, st, αt, φt)\n",
    "\tdenote x, y translation, rotation angle, scale, aspect ratio, and skew direction at time t.\n",
    "\n",
    "\tP(Xt|Xt−1) = N (Xt; Xt−1, Ψ)\n",
    "\twhere Ψ is a diagonal covariance matrix whose elements are the corresponding variances of affine parameters, assumes the variance of each affine parameter does not change over time\n",
    "\n",
    "\tSee 3.3.1 Dynamic model in http://www.cs.toronto.edu/~dross/ivt/RossLimLinYang_ijcv.pdf for reference\n",
    "\n",
    "\tParticle filter calss\"\"\"\n",
    "\tdef __init__(self, init_location,):\n",
    "\t\tself.conf_q = Queue(maxsize=2)\n",
    "\t\tself.pre_M_q = Queue(maxsize=2)\n",
    "\t\tself.last_two_loc_q = Queue(maxsize=2)\n",
    "\n",
    "\t\tself.location = init_location\n",
    "\t\tself.params = self._init_params(init_location)\n",
    "\n",
    "\n",
    "\n",
    "\tdef _init_params(self, init_location):\n",
    "\t\t\"\"\"Initialize tracker's parameters\"\"\"\n",
    "\n",
    "\t\tparams = {'p_sz': 64, 'p_num': 700, 'min_conf': 0.2, \n",
    "\t\t\t\t'mv_thr': 0.1, 'up_thr': 0.35, 'roi_scale': 2}\n",
    "\t\tdiag_s = np.ceil((init_location[2]**2 + init_location[3]**2)**0.5/7)\n",
    "\t\tparams['aff_sig'] = [diag_s, diag_s, 0.004, 0.0, 0.0, 0]\n",
    "\t\tparams['ratio'] = init_location[2] / params['p_sz']\n",
    "\t\t\n",
    "\t\treturn params\n",
    "\n",
    "\tdef _qs_full(self):\n",
    "\t\tif self.conf_q.full() and self.pre_M_q.full():\n",
    "\t\t\treturn True\n",
    "\t\telse:\n",
    "\t\t\treturn False\n",
    "\n",
    "\tdef gen_best_M(self):\n",
    "\t\t\"\"\"Returns the best pre_M in records.\"\"\"\n",
    "\t\tassert self._qs_full()\n",
    "\n",
    "\t\tpre_Ms = [self.pre_M_q.get() for _ in range(2)]\n",
    "\t\tconfs = [self.conf_q.get() for _ in range(2)]\n",
    "\t\tidx = np.argmax(confs)\n",
    "\t\treturn pre_Ms[idx]\n",
    "\n",
    "\n",
    "\tdef draw_particles(self):\n",
    "\t\t\"\"\"\n",
    "\t\tGenerates particles according to \n",
    "\t\tP(Xt|Xt−1) = N (Xt; Xt−1, Ψ)\n",
    "\n",
    "\t\tArgs:\n",
    "\t\t\taff_params: affine parameters, see class doc string for \n",
    "\t\t\t\tspecific element definition.\n",
    "\t\t\t\t[cx, cy, w/p_sz, 0, h/w, 0] for 6 degrees of freendom\n",
    "\t\t\t\t[tlx, tly, w, h] for 4 degrees of freedom.\n",
    "\t\t\t\t.\n",
    "\t\tReturns:\n",
    "\t\t\taff_params_M : self.p_num*dof size matrix,\n",
    "\t\t\t\twhere rows are updated randomly drawed affine \n",
    "\t\t\t\tparams, columns repersent each particles. \n",
    "\t\t\"\"\"\n",
    "\t\tpass\n",
    "\n",
    "\n",
    "\n",
    "\tdef predict_location(self, pre_M, gt_last, resize_factor, t):\n",
    "\t\t\"\"\"\n",
    "\t\tPredict location for each particle. It is calculated by\n",
    "\t\t1. compute the confidence of the i-th candidate, which is \n",
    "\t\t\tthe summation of all the heatmap values within the candidate region.\n",
    "\t\t2. the candidate with the highest confidence value is predicted as target.\n",
    "\n",
    "\t\tArgs:\n",
    "\t\t\timg_siz: tuple(image height, image width)\n",
    "\t\t\tpre_M: predicted heat map\n",
    "\t\t\tt: index of current frame\n",
    "\t\t\"\"\"\n",
    "\t\tpass\n",
    "\n",
    "\n",
    "\tdef get_most_conf_M(self):\n",
    "\t\t\"\"\"Returns the most confidence heat maps.\"\"\"\n",
    "\n",
    "\t\t# Pull self.conf_records all out, and retrive \n",
    "\t\t# the most confident heat map. \n",
    "\n",
    "\t\treturn updated_gt_M\n",
    "\n",
    "\n",
    "\tdef linear_prediction(self):\n",
    "\t\t\"\"\"\n",
    "\t\tPredicts current location linnearly according\n",
    "\t\tto las two frames location. This may boost the \n",
    "\t\trobustnesss of obejct blocking.\n",
    "\t\t\"\"\"\n",
    "\t\tpass\n",
    "\n",
    "\tdef distracted(self):\n",
    "\t\t\"\"\"Distracter detection.\"\"\"\n",
    "\n",
    "\t\t# up-sampling pre_M\n",
    "\n",
    "\t\t# Compute confidence according to \n",
    "\t\t# S = with_in / with_out\n",
    "\t\tconf_within = self.compute_conf(self.pre_M_resized, self.best_p_i_loc)\n",
    "\t\tconf_all = np.sum(self.pre_M_resized)\n",
    "\t\tdistracter_score = conf_within / conf_all\n",
    "\t\tprint('The probability of been distracted is %s'%distracter_score)\n",
    "\t\tif distracter_score > self.params['min_conf']:\n",
    "\t\t\treturn True\n",
    "\t\telse:\n",
    "\t\t\treturn False\n",
    "\t\t\t\n",
    "\t@classmethod\n",
    "\tdef compute_conf(self, roi, loc_p):\n",
    "\t\t\"\"\"Helper func for computing confidence\"\"\"\n",
    "\t\tx,y,w,h = loc_p\n",
    "\t\tconf = np.sum(roi[y-int(0.5*h): y+int(0.5*h), \\\n",
    "\t\t\t\t\tx-int(0.5*w):x+int(0.5*w)])\n",
    "\t\treturn conf\n",
    "\n",
    "\t@classmethod\n",
    "\tdef aff2loc(self, las_loc, aff_param):\n",
    "\t\t\"\"\"Convert affine params to location.\"\"\"\n",
    "\t\tassert len(aff_param)==4, 'This method only works for dof 4 aff space.'\n",
    "\t\tcur_loc = [i+j for i,j in zip(las_loc, aff_param)]\n",
    "\t\treturn cur_loc\n",
    "\n",
    "\n",
    "class TrackerVanilla(Tracker):\n",
    "\t\"\"\"Vanilla tracker\n",
    "\n",
    "\t\tThe covariance matrix has only 4 degrees of freedom,\n",
    "\t\tspecified by vertical, horizontal translation of the central\n",
    "\t\tpoint, variance of the width, variance of the w/h ratio.\n",
    "\n",
    "\t\tThe corrresponding actual senarios are object replacment,\n",
    "\t\tobject zoom in/out, object rotaion. Should be sufficient \n",
    "\t\tfor most cases of car tracking.\n",
    "\n",
    "\t\"\"\"\n",
    "\tdef __init__(self, init_location):\n",
    "\t\tsuper(TrackerVanilla, self).__init__(init_location)\n",
    "\t\tself._update_params()\n",
    "\n",
    "\tdef _update_params(self):\n",
    "\t\t\"\"\"Update aff_sig param.\"\"\"\n",
    "\t\tself.params['aff_sig'] = [10, 10, 0.04, 0.04]\n",
    "\n",
    "\n",
    "\tdef draw_particles(self, last_location):\n",
    "\t\t\"\"\"\n",
    "\t\tThe covariance matrix has only 4 degrees of freedom,\n",
    "\t\tspecified by vertical, horizontal translation of the central\n",
    "\t\tpoint, variance of the width, variance of the w/h ratio.\n",
    "\n",
    "\t\tThe corrresponding actual senarios are object replacment,\n",
    "\t\tobject zoom in/out, object rotaion. Should be sufficient \n",
    "\t\tfor most cases of car tracking.\n",
    "\n",
    "\t\tArgs: \n",
    "\t\t\tlast_location: [tlx, tly, w, h]\n",
    "\t\t\"\"\"\n",
    "\t\t# Define degrees of freedom \n",
    "\t\tdof = len(self.params['aff_sig'])\n",
    "\n",
    "\t\t# Construct an p_num*6 size matrix with with each \n",
    "\t\t# column repersents one particle\n",
    "\n",
    "\t\t#aff_params_M = np.kron(np.ones((self.params['p_num'],1)), np.array(aff_params))\n",
    "\n",
    "\t\t# First onstruct a p_num*dof size normal distribution with \n",
    "\t\t# mean 0 and sigma 1\n",
    "\t\trand_norml_M = np.array([np.random.standard_normal(dof) for _ in range(self.params['p_num'])])\n",
    "\n",
    "\t\t# Then construct a affine sigma matrix\n",
    "\t\taff_sig_M = np.kron(np.ones((self.params['p_num'], 1)), self.params['aff_sig'])\n",
    "\n",
    "\t\t# Update particles \n",
    "\t\tself.aff_params_M = rand_norml_M * aff_sig_M\n",
    "\n",
    "\n",
    "\tdef predict_location(self, pre_M, gt_last, resize_factor, t, roi_size):\n",
    "\t\t\"\"\"\n",
    "\t\tPredict location for each particle. It is calculated by\n",
    "\t\t1. compute the confidence of the i-th candidate, which is \n",
    "\t\t\tthe summation of all the heatmap values within the candidate region.\n",
    "\t\t2. the candidate with the highest confidence value is predicted as target.\n",
    "\n",
    "\t\tArgs:\n",
    "\t\t\timg_siz: tuple(image height, image width)\n",
    "\t\t\tpre_M: predicted heat map\n",
    "\t\t\tt: index of current frame\n",
    "\t\t\"\"\"\n",
    "\t\t# transform self.aff_params_M to location_M with each column \n",
    "\t\t# repersent [cx, cy, w, h] in the pre_M heat map\n",
    "\t\tloc_M = np.zeros(self.aff_params_M.shape)\n",
    "\t\ttlx, tly, w, h = gt\n",
    "\t\tcx, cy = roi_size // 2, roi_size // 2\n",
    "\t\tloc_M[:, 0] = cx\n",
    "\t\tloc_M[:, 1] = cy\n",
    "\t\tloc_M[:, 2] = resize_factor * w \n",
    "\t\tloc_M[:, 3] = resize_factor * h\n",
    "\t\tloc_M += self.aff_params_M\n",
    "\t\tloc_M = loc_M.astype(np.int)\n",
    "\n",
    "\t\t# Upsampling pre_M bicubicly to roi_size\n",
    "\t\tpre_M_resized = imresize(pre_M[0,:,:,0], [roi_size, roi_size], interp='bicubic')\n",
    "\n",
    "\t\t# Compute conf for each particle \n",
    "\t\tconf_lsit = []\n",
    "\t\tfor p_i_loc in loc_M:\n",
    "\t\t\tconf_i = self.compute_conf(pre_M_resized, p_i_loc)\n",
    "\t\t\tconf_lsit += [conf_i]\n",
    "\n",
    "\t\t# Get index and conf score of of the most confident one\n",
    "\t\tidx = np.argmax(conf_lsit)\n",
    "\t\tself.cur_best_conf = conf_lsit[idx]\n",
    "\t\tself.conf_q.put(conf_lsit[idx])\n",
    "\n",
    "\t\t# Store values for computing distraction \n",
    "\t\tself.best_p_i_loc = loc_M[idx]\n",
    "\t\tself.pre_M_resized = pre_M_resized\n",
    "\n",
    "\t\t# Get the corresponding aff_param which is then\n",
    "\t\t# used to predicted the cureent best location\n",
    "\t\tbest_aff =  self.aff_params_M[idx]\n",
    "\t\tprint('The affine paramters: [dx,dy,dw,dh] is {0}'.format(best_aff))\n",
    "\t\tself.pre_location = self.aff2loc(gt_last, best_aff)\n",
    "\n",
    "\t\t# Stack into records queue\n",
    "\n",
    "\n",
    "\t\treturn self.pre_location\n",
    "\n",
    "\n"
   ]
  },
  {
   "cell_type": "code",
   "execution_count": null,
   "metadata": {
    "collapsed": true
   },
   "outputs": [],
   "source": [
    "tracker = TrackerVanilla(gt)\n",
    "\n",
    "# Iter imgs\n",
    "gt_last = gt "
   ]
  },
  {
   "cell_type": "code",
   "execution_count": 11,
   "metadata": {
    "collapsed": false
   },
   "outputs": [
    {
     "name": "stdout",
     "output_type": "stream",
     "text": [
      "2\n"
     ]
    },
    {
     "name": "stderr",
     "output_type": "stream",
     "text": [
      "/home/xlws/repos/FCNT_bak/inputproducer.py:85: VisibleDeprecationWarning: using a non-integer number instead of an integer will result in an error in the future\n",
      "  roi = convas[cy-half:cy+half, cx-half:cx+half, :]\n"
     ]
    }
   ],
   "source": [
    "\n",
    "\n",
    "\n",
    "# Gnerates next frame infos\n",
    "img, gt_cur, t  = next(inputProducer.gen_img)\n",
    "print(t)\n",
    "\n",
    "## Crop a rectangle ROI region centered at last target location.\n",
    "roi, _, resize_factor = inputProducer.extract_roi(img, gt_last)\n",
    "\n",
    "## Perform Target localiation predicted by GNet\n",
    "# Get heat map predicted by GNet\n",
    "feed_dict_vgg = {vgg.imgs : [roi]}\n",
    "s_maps, g_maps = sess.run([vgg.conv4_3, vgg.conv5_3], feed_dict=feed_dict_vgg)\n",
    "s_sel_maps = s_maps[...,s_idx] # np.ndarray, shape = [1,28,28,num_sel]?\n",
    "g_sel_maps = g_maps[...,g_idx]\n",
    "\n",
    "feed_dict_g = { gnet.input_maps: g_sel_maps}\n",
    "pre_M = sess.run(gnet.pre_M, feed_dict=feed_dict_g)\n",
    "tracker.pre_M_q.put(pre_M)\n"
   ]
  },
  {
   "cell_type": "code",
   "execution_count": 12,
   "metadata": {
    "collapsed": false
   },
   "outputs": [
    {
     "name": "stdout",
     "output_type": "stream",
     "text": [
      "The affine paramters: [dx,dy,dw,dh] is [ -3.01449854e+01   1.97820074e+00  -3.09942053e-02   1.26708898e-02]\n",
      "At time 2, the most confident value is 8495\n"
     ]
    }
   ],
   "source": [
    "# Localize target with monte carlo sampling.\n",
    "tracker.draw_particles(gt_last)\n",
    "pre_loc = tracker.predict_location(pre_M, gt_last, resize_factor, t, 224)\n",
    "print('At time {0}, the most confident value is {1}'.format(t, tracker.cur_best_conf))"
   ]
  },
  {
   "cell_type": "code",
   "execution_count": 13,
   "metadata": {
    "collapsed": false
   },
   "outputs": [
    {
     "data": {
      "text/plain": [
       "[77.332849184344852, 133.4397456451525, 50.95978830000665, 36.028893395073922]"
      ]
     },
     "execution_count": 13,
     "metadata": {},
     "output_type": "execute_result"
    }
   ],
   "source": [
    "pre_loc"
   ]
  },
  {
   "cell_type": "code",
   "execution_count": 14,
   "metadata": {
    "collapsed": false
   },
   "outputs": [],
   "source": [
    "# Set predicted location to be the next frame's ground truth\n",
    "gt_last = pre_loc\n",
    "\n",
    "# Draw bbox on image. And print associated IoU score.\n",
    "#img_with_bbox(img, pre_loc, gt_cur)"
   ]
  },
  {
   "cell_type": "markdown",
   "metadata": {},
   "source": [
    "### adpative debug"
   ]
  },
  {
   "cell_type": "code",
   "execution_count": 16,
   "metadata": {
    "collapsed": true
   },
   "outputs": [],
   "source": [
    "assert t == 2"
   ]
  },
  {
   "cell_type": "code",
   "execution_count": 17,
   "metadata": {
    "collapsed": false
   },
   "outputs": [
    {
     "data": {
      "text/plain": [
       "(1, 14, 14, 1)"
      ]
     },
     "execution_count": 17,
     "metadata": {},
     "output_type": "execute_result"
    }
   ],
   "source": [
    "best_M.shape"
   ]
  },
  {
   "cell_type": "code",
   "execution_count": 20,
   "metadata": {
    "collapsed": false
   },
   "outputs": [],
   "source": [
    "best_M_resized = imresize(best_M[0,:,:,0], [28, 28], interp='bicubic')"
   ]
  },
  {
   "cell_type": "code",
   "execution_count": 22,
   "metadata": {
    "collapsed": false
   },
   "outputs": [],
   "source": [
    "loss = snet.loss(best_M_resized)"
   ]
  },
  {
   "cell_type": "code",
   "execution_count": 23,
   "metadata": {
    "collapsed": true
   },
   "outputs": [],
   "source": [
    "train_op = SNet.optimizer.minimize(loss, var_list=snet.variables)"
   ]
  },
  {
   "cell_type": "code",
   "execution_count": 24,
   "metadata": {
    "collapsed": true
   },
   "outputs": [],
   "source": [
    "feed_dict_s = {snet.input_maps: s_sel_maps}"
   ]
  },
  {
   "cell_type": "code",
   "execution_count": 27,
   "metadata": {
    "collapsed": false
   },
   "outputs": [
    {
     "name": "stdout",
     "output_type": "stream",
     "text": [
      "SNet adaptive finetune\n",
      "loss:  None\n",
      "loss:  None\n",
      "loss:  None\n",
      "loss:  None\n",
      "loss:  None\n",
      "loss:  None\n",
      "loss:  None\n",
      "loss:  None\n",
      "loss:  None\n",
      "loss:  None\n",
      "loss:  None\n",
      "loss:  None\n",
      "loss:  None\n",
      "loss:  None\n",
      "loss:  None\n",
      "loss:  None\n",
      "loss:  None\n",
      "loss:  None\n",
      "loss:  None\n",
      "loss:  None\n"
     ]
    }
   ],
   "source": [
    "print('SNet adaptive finetune')\n",
    "for step in range(20):\n",
    "    loss_, _ = sess.run([train_op, loss], feed_dict = feed_dict_s)\n",
    "    print('loss: ',loss_)"
   ]
  },
  {
   "cell_type": "markdown",
   "metadata": {},
   "source": [
    "### detractor debug"
   ]
  },
  {
   "cell_type": "code",
   "execution_count": 28,
   "metadata": {
    "collapsed": false
   },
   "outputs": [
    {
     "name": "stdout",
     "output_type": "stream",
     "text": [
      "The probability of been distracted is 0.0292498338665\n"
     ]
    },
    {
     "data": {
      "text/plain": [
       "False"
      ]
     },
     "execution_count": 28,
     "metadata": {},
     "output_type": "execute_result"
    }
   ],
   "source": [
    "tracker.distracted()"
   ]
  },
  {
   "cell_type": "markdown",
   "metadata": {},
   "source": [
    "### descrimtive finetune "
   ]
  },
  {
   "cell_type": "code",
   "execution_count": 29,
   "metadata": {
    "collapsed": false
   },
   "outputs": [
    {
     "name": "stderr",
     "output_type": "stream",
     "text": [
      "/home/xlws/anaconda3/lib/python3.5/site-packages/ipykernel/__main__.py:83: VisibleDeprecationWarning: using a non-integer number instead of an integer will result in an error in the future\n"
     ]
    }
   ],
   "source": [
    "phi = gen_mask_phi(roi.shape, pre_loc)"
   ]
  },
  {
   "cell_type": "code",
   "execution_count": 33,
   "metadata": {
    "collapsed": false
   },
   "outputs": [],
   "source": [
    "conv4_3_t0, sgt_M, conv4_3_t, pre_M, phi = s_sel_maps_t0, sgt_M, s_sel_maps, pre_M_g, phi"
   ]
  },
  {
   "cell_type": "code",
   "execution_count": 55,
   "metadata": {
    "collapsed": false
   },
   "outputs": [],
   "source": [
    "pre_M_g = sess.run(gnet.pre_M, feed_dict=feed_dict_g)"
   ]
  },
  {
   "cell_type": "code",
   "execution_count": 34,
   "metadata": {
    "collapsed": true
   },
   "outputs": [
    {
     "ename": "NameError",
     "evalue": "name 'self' is not defined",
     "output_type": "error",
     "traceback": [
      "\u001b[1;31m---------------------------------------------------------------------------\u001b[0m",
      "\u001b[1;31mNameError\u001b[0m                                 Traceback (most recent call last)",
      "\u001b[1;32m<ipython-input-34-51f6975bd0a6>\u001b[0m in \u001b[0;36m<module>\u001b[1;34m()\u001b[0m\n\u001b[0;32m      3\u001b[0m \u001b[1;33m\u001b[0m\u001b[0m\n\u001b[0;32m      4\u001b[0m \u001b[0mLoss_t0\u001b[0m \u001b[1;33m=\u001b[0m \u001b[0mtf\u001b[0m\u001b[1;33m.\u001b[0m\u001b[0mreduce_mean\u001b[0m\u001b[1;33m(\u001b[0m\u001b[0mtf\u001b[0m\u001b[1;33m.\u001b[0m\u001b[0msquared_difference\u001b[0m\u001b[1;33m(\u001b[0m\u001b[0msgt_M\u001b[0m\u001b[1;33m,\u001b[0m \u001b[0msnet\u001b[0m\u001b[1;33m.\u001b[0m\u001b[0mpre_M\u001b[0m\u001b[1;33m)\u001b[0m\u001b[1;33m)\u001b[0m\u001b[1;33m\u001b[0m\u001b[0m\n\u001b[1;32m----> 5\u001b[1;33m \u001b[0mfeed_dict_t0\u001b[0m \u001b[1;33m=\u001b[0m \u001b[1;33m{\u001b[0m\u001b[0mself\u001b[0m\u001b[1;33m.\u001b[0m\u001b[0minput_maps\u001b[0m\u001b[1;33m:\u001b[0m \u001b[0mconv4_3_t0\u001b[0m\u001b[1;33m}\u001b[0m\u001b[1;33m\u001b[0m\u001b[0m\n\u001b[0m\u001b[0;32m      6\u001b[0m \u001b[0mtrain_op_t0\u001b[0m \u001b[1;33m=\u001b[0m \u001b[0mSNet\u001b[0m\u001b[1;33m.\u001b[0m\u001b[0moptimizer\u001b[0m\u001b[1;33m.\u001b[0m\u001b[0mminimize\u001b[0m\u001b[1;33m(\u001b[0m\u001b[0mLoss_t0\u001b[0m\u001b[1;33m,\u001b[0m \u001b[0mvar_list\u001b[0m\u001b[1;33m=\u001b[0m\u001b[0msnet\u001b[0m\u001b[1;33m.\u001b[0m\u001b[0mvariables\u001b[0m\u001b[1;33m)\u001b[0m\u001b[1;33m\u001b[0m\u001b[0m\n",
      "\u001b[1;31mNameError\u001b[0m: name 'self' is not defined"
     ]
    }
   ],
   "source": [
    "sgt_M = tf.constant(sgt_M, dtype=tf.float32)\n",
    "pre_M = tf.constant(pre_M, dtype=tf.float32)\n",
    "\n",
    "Loss_t0 = tf.reduce_mean(tf.squared_difference(sgt_M, snet.pre_M))\n"
   ]
  },
  {
   "cell_type": "code",
   "execution_count": 35,
   "metadata": {
    "collapsed": true
   },
   "outputs": [],
   "source": [
    "feed_dict_t0 = {snet.input_maps: conv4_3_t0}\n",
    "train_op_t0 = SNet.optimizer.minimize(Loss_t0, var_list=snet.variables)"
   ]
  },
  {
   "cell_type": "code",
   "execution_count": 56,
   "metadata": {
    "collapsed": false
   },
   "outputs": [],
   "source": [
    "pre_M_g = imresize(pre_M_g[0,:,:,0], [28, 28], interp='bicubic')\n",
    "pre_M_g = tf.constant(pre_M_g[np.newaxis,:,:,np.newaxis], dtype=tf.float32)"
   ]
  },
  {
   "cell_type": "code",
   "execution_count": 57,
   "metadata": {
    "collapsed": false
   },
   "outputs": [
    {
     "data": {
      "text/plain": [
       "<tf.Tensor 'Const_2059:0' shape=(1, 28, 28, 1) dtype=float32>"
      ]
     },
     "execution_count": 57,
     "metadata": {},
     "output_type": "execute_result"
    }
   ],
   "source": [
    "pre_M_g"
   ]
  },
  {
   "cell_type": "code",
   "execution_count": 58,
   "metadata": {
    "collapsed": false
   },
   "outputs": [],
   "source": [
    "Loss_t =  tf.reduce_sum((1-phi) * tf.reduce_mean(tf.squared_difference(pre_M_g, snet.pre_M)))\n",
    "feed_dict_t = {snet.input_maps: conv4_3_t}\n",
    "train_op_t = SNet.optimizer.minimize(Loss_t0, var_list=snet.variables)"
   ]
  },
  {
   "cell_type": "code",
   "execution_count": 60,
   "metadata": {
    "collapsed": false
   },
   "outputs": [
    {
     "data": {
      "text/plain": [
       "<tf.Tensor 'SNet/selected_maps:0' shape=(1, 28, 28, 384) dtype=float32>"
      ]
     },
     "execution_count": 60,
     "metadata": {},
     "output_type": "execute_result"
    }
   ],
   "source": [
    "snet.input_maps"
   ]
  },
  {
   "cell_type": "code",
   "execution_count": 63,
   "metadata": {
    "collapsed": false
   },
   "outputs": [],
   "source": [
    "conv4_3_t = s_sel_maps"
   ]
  },
  {
   "cell_type": "code",
   "execution_count": 64,
   "metadata": {
    "collapsed": false
   },
   "outputs": [
    {
     "data": {
      "text/plain": [
       "(1, 28, 28, 384)"
      ]
     },
     "execution_count": 64,
     "metadata": {},
     "output_type": "execute_result"
    }
   ],
   "source": [
    "conv4_3_t.shape"
   ]
  },
  {
   "cell_type": "code",
   "execution_count": 65,
   "metadata": {
    "collapsed": true
   },
   "outputs": [],
   "source": [
    "feed_dict_t = {snet.input_maps: conv4_3_t}"
   ]
  },
  {
   "cell_type": "code",
   "execution_count": 66,
   "metadata": {
    "collapsed": false
   },
   "outputs": [
    {
     "name": "stdout",
     "output_type": "stream",
     "text": [
      "Loss 0: 0.0283147 Loss t: 9.67777e+07\n",
      "Loss 0: 0.0283147 Loss t: 9.67777e+07\n",
      "Loss 0: 0.0283147 Loss t: 9.67777e+07\n",
      "Loss 0: 0.0283147 Loss t: 9.67777e+07\n",
      "Loss 0: 0.0283147 Loss t: 9.67777e+07\n",
      "Loss 0: 0.0283147 Loss t: 9.67777e+07\n",
      "Loss 0: 0.0283147 Loss t: 9.67777e+07\n",
      "Loss 0: 0.0283147 Loss t: 9.67777e+07\n",
      "Loss 0: 0.0283147 Loss t: 9.67777e+07\n",
      "Loss 0: 0.0283147 Loss t: 9.67777e+07\n",
      "Loss 0: 0.0283147 Loss t: 9.67777e+07\n",
      "Loss 0: 0.0283147 Loss t: 9.67777e+07\n",
      "Loss 0: 0.0283147 Loss t: 9.67777e+07\n",
      "Loss 0: 0.0283147 Loss t: 9.67777e+07\n",
      "Loss 0: 0.0283147 Loss t: 9.67777e+07\n",
      "Loss 0: 0.0283147 Loss t: 9.67777e+07\n",
      "Loss 0: 0.0283147 Loss t: 9.67777e+07\n",
      "Loss 0: 0.0283147 Loss t: 9.67777e+07\n",
      "Loss 0: 0.0283147 Loss t: 9.67777e+07\n",
      "Loss 0: 0.0283147 Loss t: 9.67777e+07\n"
     ]
    }
   ],
   "source": [
    "for step in range(20):\n",
    "    _, loss_0 = sess.run([train_op_t0, Loss_t0], feed_dict_t0)\n",
    "    _, loss_t = sess.run([train_op_t, Loss_t], feed_dict_t)\n",
    "    print('Loss 0:', loss_0, 'Loss t:', loss_t)"
   ]
  },
  {
   "cell_type": "code",
   "execution_count": 67,
   "metadata": {
    "collapsed": false
   },
   "outputs": [
    {
     "ename": "TypeError",
     "evalue": "predict_location() missing 4 required positional arguments: 'gt_last', 'resize_factor', 't', and 'roi_size'",
     "output_type": "error",
     "traceback": [
      "\u001b[1;31m---------------------------------------------------------------------------\u001b[0m",
      "\u001b[1;31mTypeError\u001b[0m                                 Traceback (most recent call last)",
      "\u001b[1;32m<ipython-input-67-adb28791d0f8>\u001b[0m in \u001b[0;36m<module>\u001b[1;34m()\u001b[0m\n\u001b[0;32m      3\u001b[0m \u001b[1;33m\u001b[0m\u001b[0m\n\u001b[0;32m      4\u001b[0m \u001b[1;31m# Use location predicted by SNet.\u001b[0m\u001b[1;33m\u001b[0m\u001b[1;33m\u001b[0m\u001b[0m\n\u001b[1;32m----> 5\u001b[1;33m \u001b[0mpre_loc\u001b[0m \u001b[1;33m=\u001b[0m \u001b[0mtracker\u001b[0m\u001b[1;33m.\u001b[0m\u001b[0mpredict_location\u001b[0m\u001b[1;33m(\u001b[0m\u001b[0mpre_M_s\u001b[0m\u001b[1;33m)\u001b[0m\u001b[1;33m\u001b[0m\u001b[0m\n\u001b[0m",
      "\u001b[1;31mTypeError\u001b[0m: predict_location() missing 4 required positional arguments: 'gt_last', 'resize_factor', 't', and 'roi_size'"
     ]
    }
   ],
   "source": [
    "\n",
    "pre_M_s = sess.run(snet.pre_M, feed_dict=feed_dict)\n",
    "\n",
    "# Use location predicted by SNet.\n",
    "pre_loc = tracker.predict_location(pre_M_s, gt_last, resize_factor, t, 224)"
   ]
  },
  {
   "cell_type": "code",
   "execution_count": 68,
   "metadata": {
    "collapsed": false
   },
   "outputs": [
    {
     "name": "stdout",
     "output_type": "stream",
     "text": [
      "The affine paramters: [dx,dy,dw,dh] is [  6.69195078e+00  -2.17733071e+01  -1.75411874e-02  -1.44165982e-03]\n"
     ]
    }
   ],
   "source": [
    "pre_loc = tracker.predict_location(pre_M_s, gt_last, resize_factor, t, 224)"
   ]
  },
  {
   "cell_type": "code",
   "execution_count": 69,
   "metadata": {
    "collapsed": false
   },
   "outputs": [
    {
     "data": {
      "text/plain": [
       "[84.024799968533131,\n",
       " 111.66643851538579,\n",
       " 50.942247112578784,\n",
       " 36.027451735250722]"
      ]
     },
     "execution_count": 69,
     "metadata": {},
     "output_type": "execute_result"
    }
   ],
   "source": [
    "pre_loc"
   ]
  },
  {
   "cell_type": "code",
   "execution_count": 83,
   "metadata": {
    "collapsed": true
   },
   "outputs": [],
   "source": [
    "def img_with_bbox(img_origin, gt_1):\n",
    "\timg =np.copy(img_origin)\n",
    "\tgt_1 = [int(i) for i in gt_1]\n",
    "\tw, h = gt_1[2:]\n",
    "\ttl_x, tl_y = gt_1[:2]\n",
    "\ttr_x, tr_y = tl_x + w, tl_y \n",
    "\tdl_x, dl_y = tl_x, tl_y + h\n",
    "\tdr_x, dr_y = tl_x + w, tl_y +h\n",
    "\n",
    "\trr1, cc1 = draw.line( tl_y,tl_x, tr_y, tr_x)\n",
    "\trr2, cc2 = draw.line( tl_y,tl_x, dl_y, dl_x)\n",
    "\trr3, cc3 = draw.line( dr_y,dr_x, tr_y, tr_x)\n",
    "\trr4, cc4 = draw.line( dr_y,dr_x, dl_y, dl_x)\n",
    "\timg[rr1, cc1, :] = 1\n",
    "\timg[rr2, cc2, :] = 1\n",
    "\timg[rr3, cc3, :] = 1\n",
    "\timg[rr4, cc4, :] = 1\n",
    "\treturn img"
   ]
  },
  {
   "cell_type": "code",
   "execution_count": 82,
   "metadata": {
    "collapsed": false
   },
   "outputs": [],
   "source": [
    "from skimage.io import imshow\n",
    "from skimage import draw\n",
    "%matplotlib inline"
   ]
  },
  {
   "cell_type": "code",
   "execution_count": 88,
   "metadata": {
    "collapsed": true
   },
   "outputs": [],
   "source": [
    "import matplotlib.pylab as plt"
   ]
  },
  {
   "cell_type": "code",
   "execution_count": 90,
   "metadata": {
    "collapsed": true
   },
   "outputs": [],
   "source": [
    "plt.imsave('test.png', ib)"
   ]
  },
  {
   "cell_type": "code",
   "execution_count": 96,
   "metadata": {
    "collapsed": false
   },
   "outputs": [
    {
     "data": {
      "text/plain": [
       "2"
      ]
     },
     "execution_count": 96,
     "metadata": {},
     "output_type": "execute_result"
    }
   ],
   "source": [
    "t"
   ]
  },
  {
   "cell_type": "code",
   "execution_count": 97,
   "metadata": {
    "collapsed": false
   },
   "outputs": [
    {
     "data": {
      "text/plain": [
       "'0002.jpg'"
      ]
     },
     "execution_count": 97,
     "metadata": {},
     "output_type": "execute_result"
    }
   ],
   "source": [
    "inputProducer.imgs_path_list[t-1].split('/')[-1]"
   ]
  },
  {
   "cell_type": "code",
   "execution_count": 76,
   "metadata": {
    "collapsed": false
   },
   "outputs": [
    {
     "data": {
      "text/plain": [
       "<matplotlib.image.AxesImage at 0x7f2ca15b1240>"
      ]
     },
     "execution_count": 76,
     "metadata": {},
     "output_type": "execute_result"
    },
    {
     "data": {
      "image/png": "[encoded data removed]",
      "text/plain": [
       "<matplotlib.figure.Figure at 0x7f2c9fbfac88>"
      ]
     },
     "metadata": {},
     "output_type": "display_data"
    }
   ],
   "source": [
    "imshow(img)"
   ]
  },
  {
   "cell_type": "code",
   "execution_count": 77,
   "metadata": {
    "collapsed": false
   },
   "outputs": [
    {
     "data": {
      "text/plain": [
       "[139, 112, 51, 36]"
      ]
     },
     "execution_count": 77,
     "metadata": {},
     "output_type": "execute_result"
    }
   ],
   "source": [
    "gt"
   ]
  },
  {
   "cell_type": "code",
   "execution_count": 84,
   "metadata": {
    "collapsed": false
   },
   "outputs": [],
   "source": [
    "ib = img_with_bbox(img, gt)"
   ]
  },
  {
   "cell_type": "code",
   "execution_count": 86,
   "metadata": {
    "collapsed": true
   },
   "outputs": [],
   "source": [
    "ib2 = img_with_bbox(img, pre_loc)"
   ]
  },
  {
   "cell_type": "code",
   "execution_count": 87,
   "metadata": {
    "collapsed": false
   },
   "outputs": [
    {
     "data": {
      "text/plain": [
       "<matplotlib.image.AxesImage at 0x7f2ca32203c8>"
      ]
     },
     "execution_count": 87,
     "metadata": {},
     "output_type": "execute_result"
    },
    {
     "data": {
      "image/png": "[encoded data removed]",
      "text/plain": [
       "<matplotlib.figure.Figure at 0x7f2ca6a96be0>"
      ]
     },
     "metadata": {},
     "output_type": "display_data"
    }
   ],
   "source": [
    "imshow(ib)"
   ]
  },
  {
   "cell_type": "code",
   "execution_count": null,
   "metadata": {
    "collapsed": true
   },
   "outputs": [],
   "source": []
  }
 ],
 "metadata": {
  "anaconda-cloud": {},
  "kernelspec": {
   "display_name": "Python [Root]",
   "language": "python",
   "name": "Python [Root]"
  },
  "language_info": {
   "codemirror_mode": {
    "name": "ipython",
    "version": 3
   },
   "file_extension": ".py",
   "mimetype": "text/x-python",
   "name": "python",
   "nbconvert_exporter": "python",
   "pygments_lexer": "ipython3",
   "version": "3.5.2"
  }
 },
 "nbformat": 4,
 "nbformat_minor": 0
}
